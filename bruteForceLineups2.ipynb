{
  "nbformat": 4,
  "nbformat_minor": 0,
  "metadata": {
    "colab": {
      "name": "bruteForceLineups2.ipynb",
      "provenance": [],
      "collapsed_sections": [
        "AfJ7cJBSAXkP"
      ],
      "include_colab_link": true
    },
    "kernelspec": {
      "name": "python3",
      "display_name": "Python 3"
    },
    "language_info": {
      "name": "python"
    }
  },
  "cells": [
    {
      "cell_type": "markdown",
      "metadata": {
        "id": "view-in-github",
        "colab_type": "text"
      },
      "source": [
        "<a href=\"https://colab.research.google.com/github/MarrtinJ/fantasy-bball-opt/blob/main/bruteForceLineups2.ipynb\" target=\"_parent\"><img src=\"https://colab.research.google.com/assets/colab-badge.svg\" alt=\"Open In Colab\"/></a>"
      ]
    },
    {
      "cell_type": "markdown",
      "source": [
        "# Installing/Importing Necessary Libraries"
      ],
      "metadata": {
        "id": "AfJ7cJBSAXkP"
      }
    },
    {
      "cell_type": "code",
      "execution_count": 41,
      "metadata": {
        "id": "Fl7DQK5xtakr"
      },
      "outputs": [],
      "source": [
        "import numpy as np\n",
        "import pandas as pd"
      ]
    },
    {
      "cell_type": "code",
      "source": [
        "# stop the pandas indexing/splicing warning from appearing\n",
        "import warnings\n",
        "warnings.filterwarnings('ignore')"
      ],
      "metadata": {
        "id": "X0HG-r0XKZlB"
      },
      "execution_count": 42,
      "outputs": []
    },
    {
      "cell_type": "code",
      "source": [
        "df = pd.read_csv('dataset2.csv')\n",
        "df = df[['Date', 'Name', 'Team', 'Position', 'Salary', 'FPTS']]\n",
        "df = df[df.FPTS >= 0] # drop all players who scored less than 0 points\n",
        "df.shape"
      ],
      "metadata": {
        "id": "Yoev3vf4bZPf",
        "colab": {
          "base_uri": "https://localhost:8080/"
        },
        "outputId": "c879f98a-492f-4eb0-d5dc-db5cd7456aef"
      },
      "execution_count": 43,
      "outputs": [
        {
          "output_type": "execute_result",
          "data": {
            "text/plain": [
              "(43291, 6)"
            ]
          },
          "metadata": {},
          "execution_count": 43
        }
      ]
    },
    {
      "cell_type": "code",
      "source": [
        "# all the unique dates in the dataset\n",
        "dates = df['Date'].unique()"
      ],
      "metadata": {
        "id": "Z29MoHtZi8G4"
      },
      "execution_count": 44,
      "outputs": []
    },
    {
      "cell_type": "markdown",
      "source": [
        "# DFS Setup / Helper Functions"
      ],
      "metadata": {
        "id": "KVQnNPkR17BO"
      }
    },
    {
      "cell_type": "code",
      "source": [
        "def buildPositionDFs(df1):\n",
        "  # incr determines if the players are each position are sorted by increasing salary\n",
        "  incr = [True, False]\n",
        "\n",
        "  PGs = df1[df1['Position'] == 'PG']\n",
        "  PGs.sort_values(by=['Salary', 'FPTS'], ascending=incr, inplace=True)\n",
        "  PGs.reset_index(inplace=True, drop=True)\n",
        "\n",
        "\n",
        "  SGs = df1[df1['Position'] == 'SG']\n",
        "  SGs.sort_values(by=['Salary', 'FPTS'], ascending=incr, inplace=True)\n",
        "  SGs.reset_index(inplace=True, drop=True)\n",
        "\n",
        "  SFs = df1[df1['Position'] == 'SF']\n",
        "  SFs.sort_values(by=['Salary', 'FPTS'], ascending=incr, inplace=True)\n",
        "  SFs.reset_index(inplace=True, drop=True)\n",
        "\n",
        "  PFs = df1[df1['Position'] == 'PF']\n",
        "  PFs.sort_values(by=['Salary', 'FPTS'], ascending=incr, inplace=True)\n",
        "  PFs.reset_index(inplace=True, drop=True)\n",
        "\n",
        "  Cs = df1[df1['Position'] == 'C']\n",
        "  Cs.sort_values(by=['Salary', 'FPTS'], ascending=incr, inplace=True)\n",
        "  Cs.reset_index(inplace=True, drop=True)\n",
        "\n",
        "  Gs = df1[df1['Position'] == 'G']\n",
        "  Gs.sort_values(by=['Salary', 'FPTS'], ascending=incr, inplace=True)\n",
        "  Gs.reset_index(inplace=True, drop=True)\n",
        "\n",
        "  Fs = df1[df1['Position'] == 'F']\n",
        "  Fs.sort_values(by=['Salary', 'FPTS'], ascending=incr, inplace=True)\n",
        "  Fs.reset_index(inplace=True, drop=True)\n",
        "\n",
        "\n",
        "  Utils = df1[df1['Position'] == 'UTIL']\n",
        "  Utils.sort_values(by=['Salary', 'FPTS'], ascending=incr, inplace=True)\n",
        "  Utils.reset_index(inplace=True, drop=True)\n",
        "\n",
        "  return [PGs, SGs, SFs, PFs, Cs, Gs, Fs, Utils]"
      ],
      "metadata": {
        "id": "v1umr-74dCxz"
      },
      "execution_count": 45,
      "outputs": []
    },
    {
      "cell_type": "code",
      "source": [
        "# returns a list of player names that are not pareto-dominated\n",
        "def paretoFilter(posDF, singlePosNames):\n",
        "  discard = []\n",
        "  # print(singlePosNames[0])\n",
        "  if not singlePosNames: # no players listed under solely one position\n",
        "    return discard\n",
        "  else:\n",
        "    curBest = posDF[posDF['Name'] == singlePosNames[0]].iloc[0] # the first best player\n",
        "    # print(curBest)\n",
        "    for index, row in posDF.iterrows():\n",
        "      # produces more fantasy points and is eligible to be the 'best'\n",
        "      if row['FPTS'] > curBest['FPTS'] and row['Name'] in singlePosNames:\n",
        "        curBest = row\n",
        "        # print('Updating current best')\n",
        "        # print(curBest)\n",
        "      else:\n",
        "        # if the current player costs more than the current best and produces less fantasy points\n",
        "        if row['FPTS'] <= curBest['FPTS']:\n",
        "            # print(row['Name'], row['Salary'], row['FPTS'])\n",
        "            # print('Dropping {}'.format(row['Name']))\n",
        "            # print('Cur: {}, {} Best:{} {}'.format(row['Salary'], row['FPTS'], curBest['Salary'], curBest['FPTS']))\n",
        "            discard.append(row['Name'])\n",
        "    return discard"
      ],
      "metadata": {
        "id": "1v3Mu2MQkasp"
      },
      "execution_count": 54,
      "outputs": []
    },
    {
      "cell_type": "code",
      "source": [
        "def getSingleScore(player):\n",
        "  return currentPlayers[currentPlayers['Name'] == player].iloc[0].FPTS\n",
        "\n",
        "def getSingleSalary(player):\n",
        "  return currentPlayers[currentPlayers['Name'] == player].iloc[0].Salary"
      ],
      "metadata": {
        "id": "fBByj5lC6Is_"
      },
      "execution_count": 47,
      "outputs": []
    },
    {
      "cell_type": "code",
      "source": [
        "# getScore takes in a dict of players, returns the fantasy points scored by players\n",
        "def getScore(players):\n",
        "  total_score = 0\n",
        "  for player in players.values():\n",
        "    player_score = getSingleScore(player)\n",
        "    # print(player, player_score)\n",
        "    total_score += player_score\n",
        "  return total_score"
      ],
      "metadata": {
        "id": "DcgFIOjE9huy"
      },
      "execution_count": 48,
      "outputs": []
    },
    {
      "cell_type": "markdown",
      "source": [
        "**bold text**# Inverted DFS"
      ],
      "metadata": {
        "id": "CI9meyjb-Iu-"
      }
    },
    {
      "cell_type": "code",
      "source": [
        "MAX_POSITION_INDEX = 7\n",
        "\n",
        "# invertedDFS(players, 0, 0, 50000)\n",
        "def invertedDFS(players, pos_index, player_index, budget):\n",
        "  # print(pos_index, len(players[pos_index]))\n",
        "  player = players[pos_index][player_index]\n",
        "\n",
        "  salary = getSingleSalary(player)\n",
        "  newBudget = budget - salary\n",
        "\n",
        "  # optimization 1: instead of comparing with 0, compare with sum(min_budget of each remaining position)\n",
        "  #   can be computed ahead of time for each level\n",
        "  if pos_index < MAX_POSITION_INDEX and newBudget < minSalaries[pos_index+1]:\n",
        "    # print('out of budget at position {}'.format(pos_index))\n",
        "    return dict(), np.NINF\n",
        "\n",
        "  # optimization 3: two separate cases: if I have enough budget to pick the max salary from every remaining level, no need for recursion, just pick best score from every lower level\n",
        "  # otherwise, do the recursive search in the next block\n",
        "  if pos_index < MAX_POSITION_INDEX and newBudget > maxSalaries[pos_index+1]:\n",
        "    # print('can afford best players at position {}'.format(pos_index))\n",
        "\n",
        "    assignment = dict()\n",
        "    assignment[pos_index] = player\n",
        "    for i in range(pos_index+1, 8):\n",
        "      for index, row in l3[i].iterrows():\n",
        "        if row['Name'] not in assignment.values():\n",
        "          assignment[i] = row['Name']\n",
        "          break\n",
        "    # print(assignment, getScore(assignment))\n",
        "    return assignment, getScore(assignment)\n",
        "\n",
        "  if pos_index == MAX_POSITION_INDEX:\n",
        "    assignment = {pos_index: player}\n",
        "    # print(pos_index, player_index, player)\n",
        "    return assignment, getScore(assignment)\n",
        "  else:\n",
        "    max_score = 0\n",
        "    best_lineup = dict()\n",
        "    for j in range(len(players[pos_index + 1])):\n",
        "    # for j in range(8):\n",
        "      a, s = invertedDFS(players, pos_index+1, j, newBudget) \n",
        "      # optimization 2: if a returns None (a is empty), break out of the current loop\n",
        "      if not a:\n",
        "        # print('next level returned none')\n",
        "        break\n",
        "      if s > max_score and a and player not in a.values(): #duplicate check\n",
        "        max_score = s\n",
        "        best_lineup = a\n",
        "        # print(max_score, best_lineup)\n",
        "    if best_lineup:\n",
        "      best_lineup[pos_index]=player\n",
        "      # if pos_index==MAX_POSITION_INDEX:\n",
        "      #   print(best_lineup, max_score+getSingleScore(player))\n",
        "      return best_lineup, max_score + getSingleScore(player)\n",
        "    else:\n",
        "      return dict(), np.NINF"
      ],
      "metadata": {
        "id": "YoXvxq_4508q"
      },
      "execution_count": 60,
      "outputs": []
    },
    {
      "cell_type": "markdown",
      "source": [
        "# Main Setup/Function Call"
      ],
      "metadata": {
        "id": "HzK5hWooxOhm"
      }
    },
    {
      "cell_type": "code",
      "source": [
        "pos_dict = {0: 'PG', 1:'SG', 2:'SF', 3:'PF', 4:'C', 5:'G', 6:'F', 7:'UTIL'}"
      ],
      "metadata": {
        "id": "Kx0XiC64rpWj"
      },
      "execution_count": 50,
      "outputs": []
    },
    {
      "cell_type": "code",
      "source": [
        "numLineups = 0"
      ],
      "metadata": {
        "id": "FkLttid1CP--"
      },
      "execution_count": 55,
      "outputs": []
    },
    {
      "cell_type": "code",
      "source": [
        "players_per_day = []\n",
        "data = []\n",
        "\n",
        "# for x in range(len(dates)):\n",
        "for x in range(1,2):\n",
        "  date=dates[x]\n",
        "  print(date)\n",
        "  day = df[df['Date']==date]\n",
        "\n",
        "  # print(day.shape[0])\n",
        "  # players_per_day.append(day.shape[0])\n",
        "\n",
        "  # if (day.shape[0] > 121):\n",
        "  #   continue\n",
        "  \n",
        "\n",
        "  Utils = day.copy()\n",
        "  Utils['Position'] = 'UTIL'\n",
        "  \n",
        "  onePosition = day[ day['Position'].str.contains('/')==False ]\n",
        "  \n",
        "  onePosition.sort_values(by=['Salary', 'FPTS'], ascending=[True, False], inplace=True)\n",
        "  onePositionPG = onePosition[ onePosition['Position'] == 'PG' ]\n",
        "  onePositionSG = onePosition[ onePosition['Position'] == 'SG' ]\n",
        "  onePositionSF = onePosition[ onePosition['Position'] == 'SF' ]\n",
        "  onePositionPF = onePosition[ onePosition['Position'] == 'PF' ]\n",
        "  onePositionC = onePosition[ onePosition['Position'] == 'C' ]\n",
        "  onePositionG = pd.concat([onePositionPG, onePositionSG], ignore_index=True)\n",
        "  onePositionF = pd.concat([onePositionSF, onePositionPF], ignore_index=True)\n",
        "  onePositionUtil = onePosition.copy()\n",
        "\n",
        "  onePositionPG.drop_duplicates(subset='Salary', keep='first', inplace=True)\n",
        "  onePositionSG.drop_duplicates(subset='Salary', keep='first', inplace=True)\n",
        "  onePositionSF.drop_duplicates(subset='Salary', keep='first', inplace=True)\n",
        "  onePositionPF.drop_duplicates(subset='Salary', keep='first', inplace=True)\n",
        "  onePositionC.drop_duplicates(subset='Salary', keep='first', inplace=True)\n",
        "  onePositionG.drop_duplicates(subset='Salary', keep='first', inplace=True)\n",
        "  onePositionF.drop_duplicates(subset='Salary', keep='first', inplace=True)\n",
        "  onePositionUtil.drop_duplicates(subset='Salary', keep='first', inplace=True)\n",
        "\n",
        "  onePosList = [onePositionPG, onePositionSG, onePositionSF, onePositionPF, onePositionC, onePositionG, onePositionF, onePositionUtil]\n",
        "\n",
        "\n",
        "  multPositions = day[day['Position'].str.contains(\"/\")]\n",
        "  multPositions.reset_index(inplace=True, drop=True)\n",
        "\n",
        "  pos1 = []\n",
        "  pos2 = []\n",
        "  for index, row in multPositions.iterrows():\n",
        "    playerPos1, playerPos2 = row['Position'].split('/')\n",
        "    copy1 = row.copy()\n",
        "    copy1['Position'] = playerPos1\n",
        "    copy2 = row.copy()\n",
        "    copy2['Position'] = playerPos2\n",
        "    # print(copy)\n",
        "    pos1.append(copy1)\n",
        "    pos2.append(copy2)\n",
        "    # print(playerPos1, playerPos2)\n",
        "\n",
        "  pos1 = pd.DataFrame(pos1)\n",
        "  pos2 = pd.DataFrame(pos2)\n",
        "  \n",
        "  currentPlayers = pd.concat([onePosition, pos1, pos2], ignore_index=True)\n",
        "  currentPlayers.sort_values(['Name', 'Team', 'Position'], na_position='first', inplace=True, ignore_index=True)\n",
        "\n",
        "  Gs = currentPlayers[currentPlayers['Position'].isin(['PG', 'SG'])]\n",
        "  Gs.drop_duplicates(subset='Name', inplace=True)\n",
        "  Gs['Position'] = 'G'\n",
        "\n",
        "  Fs = currentPlayers[currentPlayers['Position'].isin(['SF', 'PF'])]\n",
        "  Fs.drop_duplicates(subset='Name', inplace=True)\n",
        "  Fs['Position'] = 'F'\n",
        "\n",
        "  currentPlayers = pd.concat([currentPlayers, Gs, Fs, Utils], ignore_index=True)\n",
        "  currentPlayers.sort_values(['Name', 'Team', 'Position'], na_position='first', inplace=True, ignore_index=True)\n",
        "\n",
        "  l1 = buildPositionDFs(currentPlayers)\n",
        "  \n",
        "  # find pareto front, drop players that will never be in best solution\n",
        "  for y in range (8):\n",
        "    onePosNames = onePosList[y].Name.to_list()\n",
        "    # print(onePosNames)\n",
        "    # print('before: {}'.format(l1[y].shape))\n",
        "    test = paretoFilter(l1[y], onePosNames)\n",
        "    l1[y] = l1[y][~l1[y]['Name'].isin(test)]\n",
        "    # print(len(test))\n",
        "    # print('{} after: {}'.format(pos_dict[y], l1[y].shape))\n",
        "\n",
        "  # minSalaries holds the minimum budget required to keep searching at each position\n",
        "  #   where the number at index i represents the sum of the least expensive players at position index >= i\n",
        "\n",
        "  # maxSalaries holds the minimum budget required to afford the highest scoring players in the remaining positions\n",
        "  #   where the number at index i represents the sum of the most expensive players at position index >= i\n",
        "\n",
        "  minSalaries = []\n",
        "  maxSalaries = []\n",
        "  l2 = [] # holds the dataframes for each positon, sorted in increasing order by max salary\n",
        "  position_order = []\n",
        "\n",
        "  l3 = [] # holds the dataframes for each positon, sorted in decreasing order by fpts\n",
        "\n",
        "  for i in range(8):\n",
        "    # could also consider sorting by the mean salary of each position\n",
        "    pos_max = l1[i].Salary.max()\n",
        "    l2.append((pos_max, l1[i]))\n",
        "\n",
        "  # sort the positions in descending order by max salary\n",
        "  l2 = sorted(l2, key=lambda x: x[0], reverse=True)\n",
        "\n",
        "  cheapest_sum = 0\n",
        "  expensive_sum = 0\n",
        "  for i in range(len(l2)):\n",
        "    # keeping track of the sum of salaries for the most expensive players in each position\n",
        "    pos_max = l2[i][0]\n",
        "    expensive_sum += pos_max\n",
        "    maxSalaries.insert(0, expensive_sum)\n",
        "\n",
        "    # removing the max sal info, retaining just the dataframe\n",
        "    l2[i] = l2[i][1]\n",
        "\n",
        "    l3.append(l2[i].sort_values(by=['FPTS'], ascending=False))\n",
        "\n",
        "    # keeping track of the sum of salaries for the least expensive players in each position\n",
        "    pos_min = l2[i].Salary.min()\n",
        "    cheapest_sum += pos_min\n",
        "    minSalaries.insert(0, cheapest_sum)\n",
        "\n",
        "    # keeping track of the sorted order of the positions\n",
        "    pos = l2[i]['Position'].iloc[0]\n",
        "    position_order.append(pos)\n",
        "\n",
        "    # print(pos, pos_min, pos_max)\n",
        "\n",
        "  # players[i][j] represents the ith player in the jth position\n",
        "  # players[i] sorted in ascending order by salary\n",
        "\n",
        "  players = []\n",
        "\n",
        "  for i in range(len(l2)):\n",
        "    players_list = l2[i]['Name'].to_list()\n",
        "    # print()\n",
        "    # print(position_order[i], players_list)\n",
        "    players.append(players_list)\n",
        "\n",
        "  for j in range(len(players)):\n",
        "    print(position_order[j], len(players[j]))\n",
        "\n",
        "  # continue \n",
        "  res = invertedDFS(players, 0, 0, 50000)\n",
        "\n",
        "  soln = res[0]\n",
        "  soln['Date'] = date\n",
        "  soln['FPTS'] = res[1]\n",
        "  print(soln)\n",
        "  data.append(soln)\n",
        "  print(f'done with {date}')"
      ],
      "metadata": {
        "id": "2x1yLld4r3Fr"
      },
      "execution_count": null,
      "outputs": []
    },
    {
      "cell_type": "markdown",
      "source": [
        "# Test"
      ],
      "metadata": {
        "id": "kjdJHl1mFg-s"
      }
    },
    {
      "cell_type": "code",
      "source": [
        "players_per_day = np.array(players_per_day)"
      ],
      "metadata": {
        "id": "CMwKL1BMn_Ba"
      },
      "execution_count": 36,
      "outputs": []
    },
    {
      "cell_type": "code",
      "source": [
        "players_per_day.mean()"
      ],
      "metadata": {
        "colab": {
          "base_uri": "https://localhost:8080/"
        },
        "id": "Vv-gVf7woDYQ",
        "outputId": "e9b45009-1522-4a91-fc3c-15a13bb84728"
      },
      "execution_count": 38,
      "outputs": [
        {
          "output_type": "execute_result",
          "data": {
            "text/plain": [
              "121.60393258426966"
            ]
          },
          "metadata": {},
          "execution_count": 38
        }
      ]
    },
    {
      "cell_type": "code",
      "source": [
        "res"
      ],
      "metadata": {
        "colab": {
          "base_uri": "https://localhost:8080/"
        },
        "id": "Dj6URAGP9Y8a",
        "outputId": "bc2819c4-ecc9-405d-9ad3-898c3ff110b7"
      },
      "execution_count": null,
      "outputs": [
        {
          "output_type": "execute_result",
          "data": {
            "text/plain": [
              "({}, -inf)"
            ]
          },
          "metadata": {},
          "execution_count": 13
        }
      ]
    },
    {
      "cell_type": "markdown",
      "source": [
        ""
      ],
      "metadata": {
        "id": "Gq_9VRmf_npt"
      }
    },
    {
      "cell_type": "code",
      "source": [
        "  # soln_df = pd.DataFrame(data)\n",
        "  # print(soln_df)\n",
        "  # soln_df.to_csv(f'./data/soln/{date}.csv', line_terminator='\\n', index=False)"
      ],
      "metadata": {
        "id": "gM-JxHlNri4J"
      },
      "execution_count": null,
      "outputs": []
    }
  ]
}