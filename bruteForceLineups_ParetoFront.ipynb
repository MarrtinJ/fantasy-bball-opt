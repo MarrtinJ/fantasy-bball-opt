{
 "cells": [
  {
   "cell_type": "markdown",
   "metadata": {
    "colab_type": "text",
    "id": "view-in-github"
   },
   "source": [
    "<a href=\"https://colab.research.google.com/github/MarrtinJ/fantasy-bball-opt/blob/main/bruteForceLineups_ParetoFront.ipynb\" target=\"_parent\"><img src=\"https://colab.research.google.com/assets/colab-badge.svg\" alt=\"Open In Colab\"/></a>"
   ]
  },
  {
   "cell_type": "markdown",
   "metadata": {
    "id": "AfJ7cJBSAXkP"
   },
   "source": [
    "# Installing/Importing Necessary Libraries"
   ]
  },
  {
   "cell_type": "code",
   "execution_count": 1,
   "metadata": {
    "id": "Fl7DQK5xtakr"
   },
   "outputs": [],
   "source": [
    "import numpy as np\n",
    "import pandas as pd"
   ]
  },
  {
   "cell_type": "code",
   "execution_count": 7,
   "metadata": {},
   "outputs": [],
   "source": [
    "# stop the pandas indexing/splicing warning from appearing\n",
    "import warnings\n",
    "warnings.filterwarnings('ignore')"
   ]
  },
  {
   "cell_type": "code",
   "execution_count": 2,
   "metadata": {
    "colab": {
     "base_uri": "https://localhost:8080/"
    },
    "id": "Yoev3vf4bZPf",
    "outputId": "48dcf034-4cef-4cfb-82e3-70baf73538f1"
   },
   "outputs": [
    {
     "data": {
      "text/plain": [
       "(43482, 27)"
      ]
     },
     "execution_count": 2,
     "metadata": {},
     "output_type": "execute_result"
    }
   ],
   "source": [
    "df = pd.read_csv('dataset2.csv')\n",
    "df.shape"
   ]
  },
  {
   "cell_type": "code",
   "execution_count": 3,
   "metadata": {
    "colab": {
     "base_uri": "https://localhost:8080/"
    },
    "id": "2x1yLld4r3Fr",
    "outputId": "16bc97fe-e916-4ed7-abb3-446da448dcd8"
   },
   "outputs": [
    {
     "data": {
      "text/plain": [
       "(63, 6)"
      ]
     },
     "execution_count": 3,
     "metadata": {},
     "output_type": "execute_result"
    }
   ],
   "source": [
    "# starting with just a single date\n",
    "\n",
    "# date = 20191022\n",
    "date = 20191024\n",
    "df = df[df['Date']==date]\n",
    "df = df[['Date', 'Name', 'Team', 'Position', 'Salary', 'FPTS']]\n",
    "df = df[df.FPTS > 0] # drop all players who have negative value\n",
    "df.reset_index(inplace=True, drop=True)\n",
    "\n",
    "df.shape"
   ]
  },
  {
   "cell_type": "markdown",
   "metadata": {
    "id": "6WBajZOctA6t"
   },
   "source": [
    "# Creating DFs for each position"
   ]
  },
  {
   "cell_type": "code",
   "execution_count": null,
   "metadata": {
    "colab": {
     "base_uri": "https://localhost:8080/",
     "height": 424
    },
    "id": "sydILnkqu7aQ",
    "outputId": "98d3071e-820e-4da7-b170-6251e708e176"
   },
   "outputs": [
    {
     "data": {
      "text/html": [
       "\n",
       "  <div id=\"df-5bd23864-752a-4ffc-a101-1ce60fc65169\">\n",
       "    <div class=\"colab-df-container\">\n",
       "      <div>\n",
       "<style scoped>\n",
       "    .dataframe tbody tr th:only-of-type {\n",
       "        vertical-align: middle;\n",
       "    }\n",
       "\n",
       "    .dataframe tbody tr th {\n",
       "        vertical-align: top;\n",
       "    }\n",
       "\n",
       "    .dataframe thead th {\n",
       "        text-align: right;\n",
       "    }\n",
       "</style>\n",
       "<table border=\"1\" class=\"dataframe\">\n",
       "  <thead>\n",
       "    <tr style=\"text-align: right;\">\n",
       "      <th></th>\n",
       "      <th>Date</th>\n",
       "      <th>Name</th>\n",
       "      <th>Team</th>\n",
       "      <th>Position</th>\n",
       "      <th>Salary</th>\n",
       "      <th>FPTS</th>\n",
       "    </tr>\n",
       "  </thead>\n",
       "  <tbody>\n",
       "    <tr>\n",
       "      <th>0</th>\n",
       "      <td>20191024</td>\n",
       "      <td>Trae Young</td>\n",
       "      <td>Atl</td>\n",
       "      <td>PG</td>\n",
       "      <td>8600</td>\n",
       "      <td>62.25</td>\n",
       "    </tr>\n",
       "    <tr>\n",
       "      <th>1</th>\n",
       "      <td>20191024</td>\n",
       "      <td>Russell Westbrook</td>\n",
       "      <td>Hou</td>\n",
       "      <td>PG</td>\n",
       "      <td>8900</td>\n",
       "      <td>62.00</td>\n",
       "    </tr>\n",
       "    <tr>\n",
       "      <th>2</th>\n",
       "      <td>20191024</td>\n",
       "      <td>James Harden</td>\n",
       "      <td>Hou</td>\n",
       "      <td>PG/SG</td>\n",
       "      <td>9700</td>\n",
       "      <td>51.25</td>\n",
       "    </tr>\n",
       "    <tr>\n",
       "      <th>3</th>\n",
       "      <td>20191024</td>\n",
       "      <td>DAngelo Russell</td>\n",
       "      <td>GSW</td>\n",
       "      <td>PG/SG</td>\n",
       "      <td>7800</td>\n",
       "      <td>33.50</td>\n",
       "    </tr>\n",
       "    <tr>\n",
       "      <th>4</th>\n",
       "      <td>20191024</td>\n",
       "      <td>Stephen Curry</td>\n",
       "      <td>GSW</td>\n",
       "      <td>PG/SG</td>\n",
       "      <td>9400</td>\n",
       "      <td>33.00</td>\n",
       "    </tr>\n",
       "    <tr>\n",
       "      <th>...</th>\n",
       "      <td>...</td>\n",
       "      <td>...</td>\n",
       "      <td>...</td>\n",
       "      <td>...</td>\n",
       "      <td>...</td>\n",
       "      <td>...</td>\n",
       "    </tr>\n",
       "    <tr>\n",
       "      <th>58</th>\n",
       "      <td>20191024</td>\n",
       "      <td>Kevon Looney</td>\n",
       "      <td>GSW</td>\n",
       "      <td>PF/C</td>\n",
       "      <td>5100</td>\n",
       "      <td>15.75</td>\n",
       "    </tr>\n",
       "    <tr>\n",
       "      <th>59</th>\n",
       "      <td>20191024</td>\n",
       "      <td>Bruno Fernando</td>\n",
       "      <td>Atl</td>\n",
       "      <td>C</td>\n",
       "      <td>3000</td>\n",
       "      <td>14.25</td>\n",
       "    </tr>\n",
       "    <tr>\n",
       "      <th>60</th>\n",
       "      <td>20191024</td>\n",
       "      <td>Thon Maker</td>\n",
       "      <td>Det</td>\n",
       "      <td>PF/C</td>\n",
       "      <td>3300</td>\n",
       "      <td>12.25</td>\n",
       "    </tr>\n",
       "    <tr>\n",
       "      <th>61</th>\n",
       "      <td>20191024</td>\n",
       "      <td>Mfiondu Kabengele</td>\n",
       "      <td>LAC</td>\n",
       "      <td>PF/C</td>\n",
       "      <td>3000</td>\n",
       "      <td>6.75</td>\n",
       "    </tr>\n",
       "    <tr>\n",
       "      <th>62</th>\n",
       "      <td>20191024</td>\n",
       "      <td>Robin Lopez</td>\n",
       "      <td>Mil</td>\n",
       "      <td>C</td>\n",
       "      <td>3300</td>\n",
       "      <td>5.50</td>\n",
       "    </tr>\n",
       "  </tbody>\n",
       "</table>\n",
       "<p>63 rows × 6 columns</p>\n",
       "</div>\n",
       "      <button class=\"colab-df-convert\" onclick=\"convertToInteractive('df-5bd23864-752a-4ffc-a101-1ce60fc65169')\"\n",
       "              title=\"Convert this dataframe to an interactive table.\"\n",
       "              style=\"display:none;\">\n",
       "        \n",
       "  <svg xmlns=\"http://www.w3.org/2000/svg\" height=\"24px\"viewBox=\"0 0 24 24\"\n",
       "       width=\"24px\">\n",
       "    <path d=\"M0 0h24v24H0V0z\" fill=\"none\"/>\n",
       "    <path d=\"M18.56 5.44l.94 2.06.94-2.06 2.06-.94-2.06-.94-.94-2.06-.94 2.06-2.06.94zm-11 1L8.5 8.5l.94-2.06 2.06-.94-2.06-.94L8.5 2.5l-.94 2.06-2.06.94zm10 10l.94 2.06.94-2.06 2.06-.94-2.06-.94-.94-2.06-.94 2.06-2.06.94z\"/><path d=\"M17.41 7.96l-1.37-1.37c-.4-.4-.92-.59-1.43-.59-.52 0-1.04.2-1.43.59L10.3 9.45l-7.72 7.72c-.78.78-.78 2.05 0 2.83L4 21.41c.39.39.9.59 1.41.59.51 0 1.02-.2 1.41-.59l7.78-7.78 2.81-2.81c.8-.78.8-2.07 0-2.86zM5.41 20L4 18.59l7.72-7.72 1.47 1.35L5.41 20z\"/>\n",
       "  </svg>\n",
       "      </button>\n",
       "      \n",
       "  <style>\n",
       "    .colab-df-container {\n",
       "      display:flex;\n",
       "      flex-wrap:wrap;\n",
       "      gap: 12px;\n",
       "    }\n",
       "\n",
       "    .colab-df-convert {\n",
       "      background-color: #E8F0FE;\n",
       "      border: none;\n",
       "      border-radius: 50%;\n",
       "      cursor: pointer;\n",
       "      display: none;\n",
       "      fill: #1967D2;\n",
       "      height: 32px;\n",
       "      padding: 0 0 0 0;\n",
       "      width: 32px;\n",
       "    }\n",
       "\n",
       "    .colab-df-convert:hover {\n",
       "      background-color: #E2EBFA;\n",
       "      box-shadow: 0px 1px 2px rgba(60, 64, 67, 0.3), 0px 1px 3px 1px rgba(60, 64, 67, 0.15);\n",
       "      fill: #174EA6;\n",
       "    }\n",
       "\n",
       "    [theme=dark] .colab-df-convert {\n",
       "      background-color: #3B4455;\n",
       "      fill: #D2E3FC;\n",
       "    }\n",
       "\n",
       "    [theme=dark] .colab-df-convert:hover {\n",
       "      background-color: #434B5C;\n",
       "      box-shadow: 0px 1px 3px 1px rgba(0, 0, 0, 0.15);\n",
       "      filter: drop-shadow(0px 1px 2px rgba(0, 0, 0, 0.3));\n",
       "      fill: #FFFFFF;\n",
       "    }\n",
       "  </style>\n",
       "\n",
       "      <script>\n",
       "        const buttonEl =\n",
       "          document.querySelector('#df-5bd23864-752a-4ffc-a101-1ce60fc65169 button.colab-df-convert');\n",
       "        buttonEl.style.display =\n",
       "          google.colab.kernel.accessAllowed ? 'block' : 'none';\n",
       "\n",
       "        async function convertToInteractive(key) {\n",
       "          const element = document.querySelector('#df-5bd23864-752a-4ffc-a101-1ce60fc65169');\n",
       "          const dataTable =\n",
       "            await google.colab.kernel.invokeFunction('convertToInteractive',\n",
       "                                                     [key], {});\n",
       "          if (!dataTable) return;\n",
       "\n",
       "          const docLinkHtml = 'Like what you see? Visit the ' +\n",
       "            '<a target=\"_blank\" href=https://colab.research.google.com/notebooks/data_table.ipynb>data table notebook</a>'\n",
       "            + ' to learn more about interactive tables.';\n",
       "          element.innerHTML = '';\n",
       "          dataTable['output_type'] = 'display_data';\n",
       "          await google.colab.output.renderOutput(dataTable, element);\n",
       "          const docLink = document.createElement('div');\n",
       "          docLink.innerHTML = docLinkHtml;\n",
       "          element.appendChild(docLink);\n",
       "        }\n",
       "      </script>\n",
       "    </div>\n",
       "  </div>\n",
       "  "
      ],
      "text/plain": [
       "        Date               Name Team Position  Salary   FPTS\n",
       "0   20191024         Trae Young  Atl       PG    8600  62.25\n",
       "1   20191024  Russell Westbrook  Hou       PG    8900  62.00\n",
       "2   20191024       James Harden  Hou    PG/SG    9700  51.25\n",
       "3   20191024    DAngelo Russell  GSW    PG/SG    7800  33.50\n",
       "4   20191024      Stephen Curry  GSW    PG/SG    9400  33.00\n",
       "..       ...                ...  ...      ...     ...    ...\n",
       "58  20191024       Kevon Looney  GSW     PF/C    5100  15.75\n",
       "59  20191024     Bruno Fernando  Atl        C    3000  14.25\n",
       "60  20191024         Thon Maker  Det     PF/C    3300  12.25\n",
       "61  20191024  Mfiondu Kabengele  LAC     PF/C    3000   6.75\n",
       "62  20191024        Robin Lopez  Mil        C    3300   5.50\n",
       "\n",
       "[63 rows x 6 columns]"
      ]
     },
     "execution_count": 4,
     "metadata": {},
     "output_type": "execute_result"
    }
   ],
   "source": [
    "df"
   ]
  },
  {
   "cell_type": "code",
   "execution_count": 4,
   "metadata": {
    "id": "wOnFw1vkSP7z"
   },
   "outputs": [],
   "source": [
    "Utils = df.copy()\n",
    "Utils['Position'] = 'UTIL'\n",
    "Utils.sort_values(by=['Salary', 'FPTS'], ascending=[True, False], inplace=True)\n",
    "# Utils"
   ]
  },
  {
   "cell_type": "code",
   "execution_count": 5,
   "metadata": {
    "colab": {
     "base_uri": "https://localhost:8080/"
    },
    "id": "AuQyUjhzUJ1_",
    "outputId": "eb418720-b8ed-43a8-e10c-a8326ede0010"
   },
   "outputs": [
    {
     "name": "stdout",
     "output_type": "stream",
     "text": [
      "(48, 6) (48, 6) (48, 6)\n"
     ]
    }
   ],
   "source": [
    "multPositions = df[df['Position'].str.contains(\"/\")]\n",
    "multPositions.reset_index(inplace=True, drop=True)\n",
    "\n",
    "pos1 = []\n",
    "pos2 = []\n",
    "for index, row in multPositions.iterrows():\n",
    "  playerPos1, playerPos2 = row['Position'].split('/')\n",
    "  copy1 = row.copy()\n",
    "  copy1['Position'] = playerPos1\n",
    "  copy2 = row.copy()\n",
    "  copy2['Position'] = playerPos2\n",
    "  # print(copy)\n",
    "  pos1.append(copy1)\n",
    "  pos2.append(copy2)\n",
    "  # print(playerPos1, playerPos2)\n",
    "\n",
    "pos1 = pd.DataFrame(pos1)\n",
    "pos2 = pd.DataFrame(pos2)\n",
    "print(multPositions.shape, pos1.shape, pos2.shape)\n"
   ]
  },
  {
   "cell_type": "code",
   "execution_count": null,
   "metadata": {
    "id": "JYlSysWZeHJe"
   },
   "outputs": [],
   "source": [
    "# pos1"
   ]
  },
  {
   "cell_type": "code",
   "execution_count": null,
   "metadata": {
    "id": "8UCB38dTbbnz"
   },
   "outputs": [],
   "source": [
    "# pos2"
   ]
  },
  {
   "cell_type": "markdown",
   "metadata": {
    "id": "lW9BpOfYL8Rc"
   },
   "source": [
    "# New Section"
   ]
  },
  {
   "cell_type": "code",
   "execution_count": 8,
   "metadata": {
    "colab": {
     "base_uri": "https://localhost:8080/"
    },
    "id": "8yRZ0jTtbnqX",
    "outputId": "95d9c2dd-de24-4a55-8e3d-dc0bb47fc5bc"
   },
   "outputs": [
    {
     "name": "stdout",
     "output_type": "stream",
     "text": [
      "(5, 6)\n",
      "(1, 6)\n",
      "(1, 6)\n",
      "(0, 6)\n",
      "(8, 6)\n",
      "(6, 6)\n",
      "(1, 6)\n",
      "(15, 6)\n"
     ]
    }
   ],
   "source": [
    "# for the players that only play one position, filter out players that had less value than their peers\n",
    "onePosition = df[ df['Position'].str.contains('/')==False ]\n",
    "onePosition.sort_values(by=['Salary', 'FPTS'], ascending=[True, False], inplace=True)\n",
    "onePositionPG = onePosition[ onePosition['Position'] == 'PG' ]\n",
    "onePositionSG = onePosition[ onePosition['Position'] == 'SG' ]\n",
    "onePositionSF = onePosition[ onePosition['Position'] == 'SF' ]\n",
    "onePositionPF = onePosition[ onePosition['Position'] == 'PF' ]\n",
    "onePositionC = onePosition[ onePosition['Position'] == 'C' ]\n",
    "onePositionG = pd.concat([onePositionPG, onePositionSG], ignore_index=True)\n",
    "onePositionG.sort_values(by=['Salary', 'FPTS'], ascending=[True, False], inplace=True)\n",
    "onePositionF = pd.concat([onePositionSF, onePositionPF], ignore_index=True)\n",
    "onePositionF.sort_values(by=['Salary', 'FPTS'], ascending=[True, False], inplace=True)\n",
    "onePositionUtil = onePosition.copy()\n",
    "\n",
    "print(onePositionPG.shape)\n",
    "print(onePositionSG.shape)\n",
    "print(onePositionSF.shape)\n",
    "print(onePositionPF.shape)\n",
    "print(onePositionC.shape)\n",
    "print(onePositionG.shape)\n",
    "print(onePositionF.shape)\n",
    "print(onePositionUtil.shape)"
   ]
  },
  {
   "cell_type": "code",
   "execution_count": 9,
   "metadata": {
    "colab": {
     "base_uri": "https://localhost:8080/"
    },
    "id": "j9D6kw0TQFCE",
    "outputId": "883764a1-6456-4269-f9fd-0e0cb38dbe7a"
   },
   "outputs": [
    {
     "name": "stdout",
     "output_type": "stream",
     "text": [
      "(4, 6)\n",
      "(1, 6)\n",
      "(1, 6)\n",
      "(0, 6)\n",
      "(8, 6)\n",
      "(4, 6)\n",
      "(1, 6)\n",
      "(11, 6)\n"
     ]
    }
   ],
   "source": [
    "onePositionPG.drop_duplicates(subset='Salary', keep='first', inplace=True)\n",
    "onePositionSG.drop_duplicates(subset='Salary', keep='first', inplace=True)\n",
    "onePositionSF.drop_duplicates(subset='Salary', keep='first', inplace=True)\n",
    "onePositionPF.drop_duplicates(subset='Salary', keep='first', inplace=True)\n",
    "onePositionC.drop_duplicates(subset='Salary', keep='first', inplace=True)\n",
    "onePositionG.drop_duplicates(subset='Salary', keep='first', inplace=True)\n",
    "onePositionF.drop_duplicates(subset='Salary', keep='first', inplace=True)\n",
    "onePositionUtil.drop_duplicates(subset='Salary', keep='first', inplace=True)\n",
    "\n",
    "\n",
    "print(onePositionPG.shape)\n",
    "print(onePositionSG.shape)\n",
    "print(onePositionSF.shape)\n",
    "print(onePositionPF.shape)\n",
    "print(onePositionC.shape)\n",
    "print(onePositionG.shape)\n",
    "print(onePositionF.shape)\n",
    "print(onePositionUtil.shape)"
   ]
  },
  {
   "cell_type": "code",
   "execution_count": 10,
   "metadata": {
    "id": "JfWQbqwWpU2u"
   },
   "outputs": [],
   "source": [
    "onePosList = [onePositionPG, onePositionSG, onePositionSF, onePositionPF, onePositionC, onePositionG, onePositionF, onePositionUtil]"
   ]
  },
  {
   "cell_type": "code",
   "execution_count": 11,
   "metadata": {
    "colab": {
     "base_uri": "https://localhost:8080/"
    },
    "id": "fOA_AWlPdvg-",
    "outputId": "a9561108-a88f-4959-c709-90b7eaf1465d"
   },
   "outputs": [
    {
     "data": {
      "text/plain": [
       "(111, 6)"
      ]
     },
     "execution_count": 11,
     "metadata": {},
     "output_type": "execute_result"
    }
   ],
   "source": [
    "currentPlayers = pd.concat([onePosition, pos1, pos2], ignore_index=True)\n",
    "currentPlayers.sort_values(['Name', 'Team', 'Position'], na_position='first', inplace=True, ignore_index=True)\n",
    "currentPlayers.shape"
   ]
  },
  {
   "cell_type": "code",
   "execution_count": 12,
   "metadata": {
    "colab": {
     "base_uri": "https://localhost:8080/"
    },
    "id": "ka_Op0a1i3bs",
    "outputId": "79110621-39a1-4014-d26b-ee15f01782ef"
   },
   "outputs": [],
   "source": [
    "Gs = currentPlayers[currentPlayers['Position'].isin(['PG', 'SG'])]\n",
    "Gs.drop_duplicates(subset='Name', inplace=True)\n",
    "Gs.reset_index(inplace=True, drop=True)\n",
    "Gs['Position'] = 'G'\n",
    "# Gs"
   ]
  },
  {
   "cell_type": "code",
   "execution_count": 13,
   "metadata": {
    "colab": {
     "base_uri": "https://localhost:8080/"
    },
    "id": "ct-N7W_gjmMt",
    "outputId": "ffaaa4b2-3970-43aa-8569-c9a120fa835e"
   },
   "outputs": [],
   "source": [
    "Fs = currentPlayers[currentPlayers['Position'].isin(['SF', 'PF'])]\n",
    "Fs.drop_duplicates(subset='Name', inplace=True)\n",
    "Fs.reset_index(inplace=True, drop=True)\n",
    "Fs['Position'] = 'F'\n",
    "# Fs"
   ]
  },
  {
   "cell_type": "code",
   "execution_count": 14,
   "metadata": {
    "id": "_InCioH0kJuV"
   },
   "outputs": [],
   "source": [
    "currentPlayers = pd.concat([currentPlayers, Gs, Fs, Utils], ignore_index=True)\n",
    "currentPlayers.sort_values(['Name', 'Team', 'Position'], na_position='first', inplace=True, ignore_index=True)"
   ]
  },
  {
   "cell_type": "code",
   "execution_count": 15,
   "metadata": {
    "colab": {
     "base_uri": "https://localhost:8080/",
     "height": 424
    },
    "id": "kWGXzz_ckVAp",
    "outputId": "0996cd99-bdc9-42aa-cd10-6826071f1b4a"
   },
   "outputs": [
    {
     "data": {
      "text/html": [
       "<div>\n",
       "<style scoped>\n",
       "    .dataframe tbody tr th:only-of-type {\n",
       "        vertical-align: middle;\n",
       "    }\n",
       "\n",
       "    .dataframe tbody tr th {\n",
       "        vertical-align: top;\n",
       "    }\n",
       "\n",
       "    .dataframe thead th {\n",
       "        text-align: right;\n",
       "    }\n",
       "</style>\n",
       "<table border=\"1\" class=\"dataframe\">\n",
       "  <thead>\n",
       "    <tr style=\"text-align: right;\">\n",
       "      <th></th>\n",
       "      <th>Date</th>\n",
       "      <th>Name</th>\n",
       "      <th>Team</th>\n",
       "      <th>Position</th>\n",
       "      <th>Salary</th>\n",
       "      <th>FPTS</th>\n",
       "    </tr>\n",
       "  </thead>\n",
       "  <tbody>\n",
       "    <tr>\n",
       "      <th>0</th>\n",
       "      <td>20191024</td>\n",
       "      <td>Alex Len</td>\n",
       "      <td>Atl</td>\n",
       "      <td>C</td>\n",
       "      <td>5500</td>\n",
       "      <td>18.50</td>\n",
       "    </tr>\n",
       "    <tr>\n",
       "      <th>1</th>\n",
       "      <td>20191024</td>\n",
       "      <td>Alex Len</td>\n",
       "      <td>Atl</td>\n",
       "      <td>UTIL</td>\n",
       "      <td>5500</td>\n",
       "      <td>18.50</td>\n",
       "    </tr>\n",
       "    <tr>\n",
       "      <th>2</th>\n",
       "      <td>20191024</td>\n",
       "      <td>Andre Drummond</td>\n",
       "      <td>Det</td>\n",
       "      <td>C</td>\n",
       "      <td>8300</td>\n",
       "      <td>48.50</td>\n",
       "    </tr>\n",
       "    <tr>\n",
       "      <th>3</th>\n",
       "      <td>20191024</td>\n",
       "      <td>Andre Drummond</td>\n",
       "      <td>Det</td>\n",
       "      <td>UTIL</td>\n",
       "      <td>8300</td>\n",
       "      <td>48.50</td>\n",
       "    </tr>\n",
       "    <tr>\n",
       "      <th>4</th>\n",
       "      <td>20191024</td>\n",
       "      <td>Austin Rivers</td>\n",
       "      <td>Hou</td>\n",
       "      <td>G</td>\n",
       "      <td>3200</td>\n",
       "      <td>5.50</td>\n",
       "    </tr>\n",
       "    <tr>\n",
       "      <th>...</th>\n",
       "      <td>...</td>\n",
       "      <td>...</td>\n",
       "      <td>...</td>\n",
       "      <td>...</td>\n",
       "      <td>...</td>\n",
       "      <td>...</td>\n",
       "    </tr>\n",
       "    <tr>\n",
       "      <th>242</th>\n",
       "      <td>20191024</td>\n",
       "      <td>Tyson Chandler</td>\n",
       "      <td>Hou</td>\n",
       "      <td>UTIL</td>\n",
       "      <td>3100</td>\n",
       "      <td>16.25</td>\n",
       "    </tr>\n",
       "    <tr>\n",
       "      <th>243</th>\n",
       "      <td>20191024</td>\n",
       "      <td>Vince Carter</td>\n",
       "      <td>Atl</td>\n",
       "      <td>F</td>\n",
       "      <td>3100</td>\n",
       "      <td>1.00</td>\n",
       "    </tr>\n",
       "    <tr>\n",
       "      <th>244</th>\n",
       "      <td>20191024</td>\n",
       "      <td>Vince Carter</td>\n",
       "      <td>Atl</td>\n",
       "      <td>PF</td>\n",
       "      <td>3100</td>\n",
       "      <td>1.00</td>\n",
       "    </tr>\n",
       "    <tr>\n",
       "      <th>245</th>\n",
       "      <td>20191024</td>\n",
       "      <td>Vince Carter</td>\n",
       "      <td>Atl</td>\n",
       "      <td>SF</td>\n",
       "      <td>3100</td>\n",
       "      <td>1.00</td>\n",
       "    </tr>\n",
       "    <tr>\n",
       "      <th>246</th>\n",
       "      <td>20191024</td>\n",
       "      <td>Vince Carter</td>\n",
       "      <td>Atl</td>\n",
       "      <td>UTIL</td>\n",
       "      <td>3100</td>\n",
       "      <td>1.00</td>\n",
       "    </tr>\n",
       "  </tbody>\n",
       "</table>\n",
       "<p>247 rows × 6 columns</p>\n",
       "</div>"
      ],
      "text/plain": [
       "         Date            Name Team Position  Salary   FPTS\n",
       "0    20191024        Alex Len  Atl        C    5500  18.50\n",
       "1    20191024        Alex Len  Atl     UTIL    5500  18.50\n",
       "2    20191024  Andre Drummond  Det        C    8300  48.50\n",
       "3    20191024  Andre Drummond  Det     UTIL    8300  48.50\n",
       "4    20191024   Austin Rivers  Hou        G    3200   5.50\n",
       "..        ...             ...  ...      ...     ...    ...\n",
       "242  20191024  Tyson Chandler  Hou     UTIL    3100  16.25\n",
       "243  20191024    Vince Carter  Atl        F    3100   1.00\n",
       "244  20191024    Vince Carter  Atl       PF    3100   1.00\n",
       "245  20191024    Vince Carter  Atl       SF    3100   1.00\n",
       "246  20191024    Vince Carter  Atl     UTIL    3100   1.00\n",
       "\n",
       "[247 rows x 6 columns]"
      ]
     },
     "execution_count": 15,
     "metadata": {},
     "output_type": "execute_result"
    }
   ],
   "source": [
    "currentPlayers"
   ]
  },
  {
   "cell_type": "markdown",
   "metadata": {
    "id": "KVQnNPkR17BO"
   },
   "source": [
    "# DFS Setup / Helper Functions"
   ]
  },
  {
   "cell_type": "code",
   "execution_count": 16,
   "metadata": {
    "colab": {
     "base_uri": "https://localhost:8080/"
    },
    "id": "O2DXKHcf1bmr",
    "outputId": "155e4fd6-6433-4e50-9258-53c6d002cad8"
   },
   "outputs": [],
   "source": [
    "# incr determines if the players are each position are sorted by increasing salary\n",
    "incr = [True, False]\n",
    "\n",
    "PGs = currentPlayers[currentPlayers['Position'] == 'PG']\n",
    "PGs.sort_values(by=['Salary', 'FPTS'], ascending=incr, inplace=True)\n",
    "PGs.reset_index(inplace=True, drop=True)\n",
    "\n",
    "SGs = currentPlayers[currentPlayers['Position'] == 'SG']\n",
    "SGs.sort_values(by=['Salary', 'FPTS'], ascending=incr, inplace=True)\n",
    "SGs.reset_index(inplace=True, drop=True)\n",
    "\n",
    "SFs = currentPlayers[currentPlayers['Position'] == 'SF']\n",
    "SFs.sort_values(by=['Salary', 'FPTS'], ascending=incr, inplace=True)\n",
    "SFs.reset_index(inplace=True, drop=True)\n",
    "\n",
    "PFs = currentPlayers[currentPlayers['Position'] == 'PF']\n",
    "PFs.sort_values(by=['Salary', 'FPTS'], ascending=incr, inplace=True)\n",
    "PFs.reset_index(inplace=True, drop=True)\n",
    "\n",
    "Cs = currentPlayers[currentPlayers['Position'] == 'C']\n",
    "Cs.sort_values(by=['Salary', 'FPTS'], ascending=incr, inplace=True)\n",
    "Cs.reset_index(inplace=True, drop=True)\n",
    "\n",
    "Gs = currentPlayers[currentPlayers['Position'] == 'G']\n",
    "Gs.sort_values(by=['Salary', 'FPTS'], ascending=incr, inplace=True)\n",
    "Gs.reset_index(inplace=True, drop=True)\n",
    "\n",
    "Fs = currentPlayers[currentPlayers['Position'] == 'F']\n",
    "Fs.sort_values(by=['Salary', 'FPTS'], ascending=incr, inplace=True)\n",
    "Fs.reset_index(inplace=True, drop=True)\n",
    "\n",
    "Utils = currentPlayers[currentPlayers['Position'] == 'UTIL']\n",
    "Utils.sort_values(by=['Salary', 'FPTS'], ascending=incr, inplace=True)\n",
    "Utils.reset_index(inplace=True, drop=True)\n"
   ]
  },
  {
   "cell_type": "code",
   "execution_count": null,
   "metadata": {
    "id": "_0uIESqnADio"
   },
   "outputs": [],
   "source": [
    "# Utils"
   ]
  },
  {
   "cell_type": "code",
   "execution_count": null,
   "metadata": {
    "id": "5R0jLRwZs6Zq"
   },
   "outputs": [],
   "source": [
    "# onePositionUtil"
   ]
  },
  {
   "cell_type": "code",
   "execution_count": null,
   "metadata": {
    "id": "ghmWQYU3rBx0"
   },
   "outputs": [],
   "source": [
    "# Utils[['Name', 'Salary', 'FPTS']].to_csv(f'test.csv', line_terminator='\\n', index=False)"
   ]
  },
  {
   "cell_type": "markdown",
   "metadata": {
    "id": "xRLMLyZEWnPS"
   },
   "source": [
    "## Pareto Front\n",
    "\n",
    "Considering all players in a given position from left to right (after sorting them by ascending salary), we ignore any player whose score is not better than the best player to its left so far (with the nuance that a player who plays in multiple positions should never be used to determine the best score so far). You can then make a new list consisting only of the players who were not eliminated by this process (or add the players who were not eliminated to a new list as you go)."
   ]
  },
  {
   "cell_type": "code",
   "execution_count": 17,
   "metadata": {
    "id": "_xNUFXB3WkR1"
   },
   "outputs": [],
   "source": [
    "# takes as input a DF containing  all the players that play position i\n",
    "#   and a list of player names who only play position i\n",
    "# returns a list of player names that are not pareto-dominated\n",
    "def paretoFilter(posDF, singlePosNames):\n",
    "  discard = []\n",
    "  # print(singlePosNames[0])\n",
    "  if not singlePosNames: # no players listed under just that one position\n",
    "    return discard\n",
    "  else:\n",
    "    curBest = posDF[posDF['Name'] == singlePosNames[0]].iloc[0] # the first best player\n",
    "    # print(curBest)\n",
    "    for index, row in posDF.iterrows():\n",
    "      # if the current player produces more fantasy points and only plays that specific position\n",
    "      if row['FPTS'] > curBest['FPTS'] and row['Name'] in singlePosNames:\n",
    "        curBest = row\n",
    "        # print('Updating current best')\n",
    "        # print(curBest)\n",
    "      else:\n",
    "        # if the current player produces less fantasy points than the best player\n",
    "        if row['FPTS'] <= curBest['FPTS'] and row['Name'] != curBest['Name']:\n",
    "            # print('Dropping {}'.format(row['Name']))\n",
    "            # print('Cur: {}, {} Best:{} {}'.format(row['Salary'], row['FPTS'], curBest['Salary'], curBest['FPTS']))\n",
    "            discard.append(row['Name'])\n",
    "    return discard"
   ]
  },
  {
   "cell_type": "code",
   "execution_count": 19,
   "metadata": {
    "colab": {
     "base_uri": "https://localhost:8080/"
    },
    "id": "B6MRtvM-GzL9",
    "outputId": "08fe9e13-df72-4e1f-bc88-919b03c6126a"
   },
   "outputs": [
    {
     "name": "stdout",
     "output_type": "stream",
     "text": [
      "PG\n",
      "before: (15, 6)\n",
      "after: (10, 6)\n",
      "SG\n",
      "before: (27, 6)\n",
      "after: (22, 6)\n",
      "SF\n",
      "before: (29, 6)\n",
      "after: (23, 6)\n",
      "PF\n",
      "before: (21, 6)\n",
      "after: (21, 6)\n",
      "C\n",
      "before: (19, 6)\n",
      "after: (9, 6)\n",
      "G\n",
      "before: (33, 6)\n",
      "after: (22, 6)\n",
      "F\n",
      "before: (40, 6)\n",
      "after: (33, 6)\n",
      "UTIL\n",
      "before: (63, 6)\n",
      "after: (19, 6)\n"
     ]
    }
   ],
   "source": [
    "l1 = [PGs, SGs, SFs, PFs, Cs, Gs, Fs, Utils]\n",
    "\n",
    "for y in range (8):\n",
    "  onePosNames = onePosList[y].Name.to_list()\n",
    "  # print(onePosNames)\n",
    "  print(l1[y].iloc[0].Position)\n",
    "  print('before: {}'.format(l1[y].shape))\n",
    "  test = paretoFilter(l1[y], onePosNames)\n",
    "  l1[y] = l1[y][~l1[y]['Name'].isin(test)]\n",
    "  # print(len(test))\n",
    "  print('after: {}'.format(l1[y].shape))  "
   ]
  },
  {
   "cell_type": "code",
   "execution_count": 20,
   "metadata": {
    "colab": {
     "base_uri": "https://localhost:8080/"
    },
    "id": "KluyFghotRpu",
    "outputId": "eb34b3e1-af83-4e26-80f6-4b95761fa832"
   },
   "outputs": [
    {
     "name": "stdout",
     "output_type": "stream",
     "text": [
      "SF 3000 10300\n",
      "PF 3000 10300\n",
      "F 3000 10300\n",
      "UTIL 3000 10300\n",
      "SG 3000 9700\n",
      "PG 3000 8600\n",
      "G 3000 8600\n",
      "C 3000 8300\n"
     ]
    }
   ],
   "source": [
    "# minPrices holds the minimum budget required to keep searching at each position\n",
    "#   where the number at index i represents the sum of the least expensive players at position index >= i\n",
    "\n",
    "# maxPrices holds the minimum budget required to afford the highest scoring players in the remaining positions\n",
    "#   where the number at index i represents the sum of the most expensive players at position index >= i\n",
    "\n",
    "minSalaries = []\n",
    "maxSalaries = []\n",
    "l2 = []\n",
    "position_order = []\n",
    "\n",
    "l3 = []\n",
    "\n",
    "for i in range(8):\n",
    "  # could also consider sorting by the mean salary of each position\n",
    "  pos_max = l1[i].Salary.max()\n",
    "  l2.append((pos_max, l1[i]))\n",
    "\n",
    "# sort the positions in descending order by max salary\n",
    "l2 = sorted(l2, key=lambda x: x[0], reverse=True)\n",
    "\n",
    "cheapest_sum = 0\n",
    "expensive_sum = 0\n",
    "for i in range(len(l2)):\n",
    "  # keeping track of the sum of salaries for the most expensive players in each position\n",
    "  pos_max = l2[i][0]\n",
    "  expensive_sum += pos_max\n",
    "  maxSalaries.insert(0, expensive_sum)\n",
    "\n",
    "  # removing the max sal info, retaining just the dataframe\n",
    "  l2[i] = l2[i][1]\n",
    "\n",
    "  l3.append(l2[i].sort_values(by=['FPTS'], ascending=False))\n",
    "\n",
    "  # keeping track of the sum of salaries for the least expensive players in each position\n",
    "  pos_min = l2[i].Salary.min()\n",
    "  cheapest_sum += pos_min\n",
    "  minSalaries.insert(0, cheapest_sum)\n",
    "\n",
    "  # keeping track of the sorted order of the positions\n",
    "  pos = l2[i]['Position'].iloc[0]\n",
    "  position_order.append(pos)\n",
    "\n",
    "  print(pos, pos_min, pos_max)\n",
    "\n",
    "# l2\n",
    "# position_order\n",
    "# maxSalaries\n",
    "# minSalaries\n",
    "# l3"
   ]
  },
  {
   "cell_type": "code",
   "execution_count": 21,
   "metadata": {
    "colab": {
     "base_uri": "https://localhost:8080/"
    },
    "id": "T9gGKjaA4NZu",
    "outputId": "08c4a28a-6690-4430-8d95-c6ad59418788"
   },
   "outputs": [
    {
     "name": "stdout",
     "output_type": "stream",
     "text": [
      "SF 23\n",
      "PF 21\n",
      "F 33\n",
      "UTIL 19\n",
      "SG 22\n",
      "PG 10\n",
      "G 22\n",
      "C 9\n"
     ]
    }
   ],
   "source": [
    "# players[i][j] represents the ith player in the jth position\n",
    "# players[i] sorted in ascending order by salary\n",
    "\n",
    "players = []\n",
    "players_per_pos = []\n",
    "\n",
    "for i in range(len(l2)):\n",
    "  players_list = l2[i]['Name'].to_list()\n",
    "  print(position_order[i], len(players_list))\n",
    "  players.append(players_list)\n",
    "  players_per_pos.append(len(players_list))\n",
    "\n",
    "players_per_pos = np.array(players_per_pos)"
   ]
  },
  {
   "cell_type": "code",
   "execution_count": null,
   "metadata": {
    "id": "W-8v6KbZ-l5Q"
   },
   "outputs": [],
   "source": []
  },
  {
   "cell_type": "code",
   "execution_count": 22,
   "metadata": {
    "id": "5BbVZuNWKZNV"
   },
   "outputs": [],
   "source": [
    "# checkDuplicates takes in a list of players, checks if list contains duplicates\n",
    "# if yes return True, else return False\n",
    "def checkDuplicates(players):\n",
    "  setOfPlayers = set()\n",
    "  for player in players:\n",
    "      if player in setOfPlayers:\n",
    "          return True\n",
    "      else:\n",
    "          setOfPlayers.add(player)         \n",
    "  return False"
   ]
  },
  {
   "cell_type": "code",
   "execution_count": 23,
   "metadata": {
    "id": "L9bM1bwtMVyV"
   },
   "outputs": [],
   "source": [
    "# checkSalary takes in a list of players, checks if salary > 50000\n",
    "# if yes return true, else return false\n",
    "def checkSalary(players):\n",
    "  total_salary = getSalary(players)\n",
    "  if total_salary > 50000:\n",
    "    return True\n",
    "  return False\n",
    "\n",
    "# getSalary takes in a list of players, returns the combined salary of all players\n",
    "def getSalary(players):\n",
    "  total_salary = 0\n",
    "  for player in players:\n",
    "    player_sal = currentPlayers[currentPlayers['Name'] == player].iloc[0].Salary\n",
    "    total_salary += player_sal\n",
    "  return total_salary"
   ]
  },
  {
   "cell_type": "code",
   "execution_count": 24,
   "metadata": {
    "id": "fBByj5lC6Is_"
   },
   "outputs": [],
   "source": [
    "def getSingleScore(player):\n",
    "  return currentPlayers[currentPlayers['Name'] == player].iloc[0].FPTS\n",
    "\n",
    "def getSingleSalary(player):\n",
    "  return currentPlayers[currentPlayers['Name'] == player].iloc[0].Salary"
   ]
  },
  {
   "cell_type": "code",
   "execution_count": 25,
   "metadata": {
    "id": "DcgFIOjE9huy"
   },
   "outputs": [],
   "source": [
    "# getScore takes in a dict of players, returns the fantasy points scored by players\n",
    "def getScore(players):\n",
    "  total_score = 0\n",
    "  for player in players.values():\n",
    "    player_score = getSingleScore(player)\n",
    "    # print(player, player_score)\n",
    "    total_score += player_score\n",
    "  return total_score"
   ]
  },
  {
   "cell_type": "markdown",
   "metadata": {
    "id": "CI9meyjb-Iu-"
   },
   "source": [
    "# Inverted DFS"
   ]
  },
  {
   "cell_type": "code",
   "execution_count": 26,
   "metadata": {
    "colab": {
     "base_uri": "https://localhost:8080/"
    },
    "id": "F9adXJ708KhW",
    "outputId": "ba63407b-f4df-4bb6-c1b8-ec60c5244bbb"
   },
   "outputs": [
    {
     "data": {
      "text/plain": [
       "array([23, 21, 33, 19, 22, 10, 22,  9])"
      ]
     },
     "execution_count": 26,
     "metadata": {},
     "output_type": "execute_result"
    }
   ],
   "source": [
    "players_per_pos"
   ]
  },
  {
   "cell_type": "code",
   "execution_count": 27,
   "metadata": {
    "id": "r2mhVaizF7E6"
   },
   "outputs": [],
   "source": [
    "global numLineups\n",
    "numLineups = 0"
   ]
  },
  {
   "cell_type": "code",
   "execution_count": 30,
   "metadata": {
    "id": "YoXvxq_4508q"
   },
   "outputs": [],
   "source": [
    "MAX_POSITION_INDEX = 7\n",
    "\n",
    "global numLineups\n",
    "numLineups = 0\n",
    "\n",
    "# invertedDFS(players, 0, 0, 50000)\n",
    "def invertedDFS(players, pos_index, player_index, budget):\n",
    "\n",
    "  # print(pos_index, len(players[pos_index]))\n",
    "  player = players[pos_index][player_index]\n",
    "\n",
    "  salary = getSingleSalary(player)\n",
    "  newBudget = budget - salary\n",
    "\n",
    "  # optimization 1: instead of comparing with 0, compare with sum(min_budget of each remaining position)\n",
    "  #   can be computed ahead of time for each level\n",
    "  if pos_index < MAX_POSITION_INDEX and newBudget < minSalaries[pos_index+1]:\n",
    "    # print('out of budget at position {}'.format(pos_index))\n",
    "    return dict(), np.NINF\n",
    "\n",
    "  # optimization 3: two separate cases: if I have enough budget to pick the max salary from every remaining level, no need for recursion, just pick best score from every lower level\n",
    "  # otherwise, do the recursive search in the next block\n",
    "  if pos_index < MAX_POSITION_INDEX and newBudget > maxSalaries[pos_index+1]:\n",
    "    # print('can afford best players at position {}'.format(pos_index))\n",
    "\n",
    "    assignment = dict()\n",
    "    assignment[pos_index] = player\n",
    "    for i in range(pos_index+1, 8):\n",
    "      for index, row in l3[i].iterrows():\n",
    "        if row['Name'] not in assignment.values():\n",
    "          assignment[i] = row['Name']\n",
    "          break\n",
    "    # print(assignment, getScore(assignment))\n",
    "    numLineups += 1\n",
    "    if numLineups%10 == 0:\n",
    "      print(numLineups)\n",
    "    return assignment, getScore(assignment)\n",
    "\n",
    "  if pos_index == MAX_POSITION_INDEX:\n",
    "    assignment = {pos_index: player}\n",
    "    # print(pos_index, player_index, player)\n",
    "    numLineups += 1\n",
    "    if numLineups%10 == 0:\n",
    "      print(numLineups)\n",
    "    return assignment, getScore(assignment)\n",
    "  else:\n",
    "    max_score = 0\n",
    "    best_lineup = dict()\n",
    "    for j in range(len(players[pos_index + 1])):\n",
    "    # for j in range(8):\n",
    "      a, s = invertedDFS(players, pos_index+1, j, newBudget) \n",
    "      # optimization 2: if a returns None (a is empty), break out of the current loop\n",
    "      if not a:\n",
    "        # print('next level returned none')\n",
    "        numLineups += 1\n",
    "        if numLineups%10 == 0:\n",
    "          print(numLineups)\n",
    "        break\n",
    "      if s > max_score and a and player not in a.values(): #duplicate check\n",
    "        max_score = s\n",
    "        best_lineup = a\n",
    "        # print(max_score, best_lineup)\n",
    "    if best_lineup:\n",
    "      best_lineup[pos_index]=player\n",
    "      numLineups += 1\n",
    "      if numLineups%10 == 0:\n",
    "        print(numLineups)\n",
    "      return best_lineup, max_score + getSingleScore(player)\n",
    "    else:\n",
    "      numLineups += 1\n",
    "      if numLineups%10 == 0:\n",
    "        print(numLineups)\n",
    "      return dict(), np.NINF"
   ]
  },
  {
   "cell_type": "code",
   "execution_count": 31,
   "metadata": {
    "colab": {
     "base_uri": "https://localhost:8080/",
     "height": 342
    },
    "id": "ERJv9Ihgu82h",
    "outputId": "61cb5422-2a13-42f3-f1ae-2233c9d18ff1"
   },
   "outputs": [
    {
     "ename": "UnboundLocalError",
     "evalue": "local variable 'numLineups' referenced before assignment",
     "output_type": "error",
     "traceback": [
      "\u001b[0;31m---------------------------------------------------------------------------\u001b[0m",
      "\u001b[0;31mUnboundLocalError\u001b[0m                         Traceback (most recent call last)",
      "\u001b[0;32m<ipython-input-31-65a1bd13c93f>\u001b[0m in \u001b[0;36m<module>\u001b[0;34m\u001b[0m\n\u001b[0;32m----> 1\u001b[0;31m \u001b[0minvertedDFS\u001b[0m\u001b[0;34m(\u001b[0m\u001b[0mplayers\u001b[0m\u001b[0;34m,\u001b[0m \u001b[0;36m0\u001b[0m\u001b[0;34m,\u001b[0m \u001b[0;36m0\u001b[0m\u001b[0;34m,\u001b[0m \u001b[0;36m50000\u001b[0m\u001b[0;34m)\u001b[0m\u001b[0;34m\u001b[0m\u001b[0;34m\u001b[0m\u001b[0m\n\u001b[0m",
      "\u001b[0;32m<ipython-input-30-8e262cde8a4b>\u001b[0m in \u001b[0;36minvertedDFS\u001b[0;34m(players, pos_index, player_index, budget)\u001b[0m\n\u001b[1;32m     49\u001b[0m     \u001b[0;32mfor\u001b[0m \u001b[0mj\u001b[0m \u001b[0;32min\u001b[0m \u001b[0mrange\u001b[0m\u001b[0;34m(\u001b[0m\u001b[0mlen\u001b[0m\u001b[0;34m(\u001b[0m\u001b[0mplayers\u001b[0m\u001b[0;34m[\u001b[0m\u001b[0mpos_index\u001b[0m \u001b[0;34m+\u001b[0m \u001b[0;36m1\u001b[0m\u001b[0;34m]\u001b[0m\u001b[0;34m)\u001b[0m\u001b[0;34m)\u001b[0m\u001b[0;34m:\u001b[0m\u001b[0;34m\u001b[0m\u001b[0;34m\u001b[0m\u001b[0m\n\u001b[1;32m     50\u001b[0m     \u001b[0;31m# for j in range(8):\u001b[0m\u001b[0;34m\u001b[0m\u001b[0;34m\u001b[0m\u001b[0;34m\u001b[0m\u001b[0m\n\u001b[0;32m---> 51\u001b[0;31m       \u001b[0ma\u001b[0m\u001b[0;34m,\u001b[0m \u001b[0ms\u001b[0m \u001b[0;34m=\u001b[0m \u001b[0minvertedDFS\u001b[0m\u001b[0;34m(\u001b[0m\u001b[0mplayers\u001b[0m\u001b[0;34m,\u001b[0m \u001b[0mpos_index\u001b[0m\u001b[0;34m+\u001b[0m\u001b[0;36m1\u001b[0m\u001b[0;34m,\u001b[0m \u001b[0mj\u001b[0m\u001b[0;34m,\u001b[0m \u001b[0mnewBudget\u001b[0m\u001b[0;34m)\u001b[0m\u001b[0;34m\u001b[0m\u001b[0;34m\u001b[0m\u001b[0m\n\u001b[0m\u001b[1;32m     52\u001b[0m       \u001b[0;31m# optimization 2: if a returns None (a is empty), break out of the current loop\u001b[0m\u001b[0;34m\u001b[0m\u001b[0;34m\u001b[0m\u001b[0;34m\u001b[0m\u001b[0m\n\u001b[1;32m     53\u001b[0m       \u001b[0;32mif\u001b[0m \u001b[0;32mnot\u001b[0m \u001b[0ma\u001b[0m\u001b[0;34m:\u001b[0m\u001b[0;34m\u001b[0m\u001b[0;34m\u001b[0m\u001b[0m\n",
      "\u001b[0;32m<ipython-input-30-8e262cde8a4b>\u001b[0m in \u001b[0;36minvertedDFS\u001b[0;34m(players, pos_index, player_index, budget)\u001b[0m\n\u001b[1;32m     49\u001b[0m     \u001b[0;32mfor\u001b[0m \u001b[0mj\u001b[0m \u001b[0;32min\u001b[0m \u001b[0mrange\u001b[0m\u001b[0;34m(\u001b[0m\u001b[0mlen\u001b[0m\u001b[0;34m(\u001b[0m\u001b[0mplayers\u001b[0m\u001b[0;34m[\u001b[0m\u001b[0mpos_index\u001b[0m \u001b[0;34m+\u001b[0m \u001b[0;36m1\u001b[0m\u001b[0;34m]\u001b[0m\u001b[0;34m)\u001b[0m\u001b[0;34m)\u001b[0m\u001b[0;34m:\u001b[0m\u001b[0;34m\u001b[0m\u001b[0;34m\u001b[0m\u001b[0m\n\u001b[1;32m     50\u001b[0m     \u001b[0;31m# for j in range(8):\u001b[0m\u001b[0;34m\u001b[0m\u001b[0;34m\u001b[0m\u001b[0;34m\u001b[0m\u001b[0m\n\u001b[0;32m---> 51\u001b[0;31m       \u001b[0ma\u001b[0m\u001b[0;34m,\u001b[0m \u001b[0ms\u001b[0m \u001b[0;34m=\u001b[0m \u001b[0minvertedDFS\u001b[0m\u001b[0;34m(\u001b[0m\u001b[0mplayers\u001b[0m\u001b[0;34m,\u001b[0m \u001b[0mpos_index\u001b[0m\u001b[0;34m+\u001b[0m\u001b[0;36m1\u001b[0m\u001b[0;34m,\u001b[0m \u001b[0mj\u001b[0m\u001b[0;34m,\u001b[0m \u001b[0mnewBudget\u001b[0m\u001b[0;34m)\u001b[0m\u001b[0;34m\u001b[0m\u001b[0;34m\u001b[0m\u001b[0m\n\u001b[0m\u001b[1;32m     52\u001b[0m       \u001b[0;31m# optimization 2: if a returns None (a is empty), break out of the current loop\u001b[0m\u001b[0;34m\u001b[0m\u001b[0;34m\u001b[0m\u001b[0;34m\u001b[0m\u001b[0m\n\u001b[1;32m     53\u001b[0m       \u001b[0;32mif\u001b[0m \u001b[0;32mnot\u001b[0m \u001b[0ma\u001b[0m\u001b[0;34m:\u001b[0m\u001b[0;34m\u001b[0m\u001b[0;34m\u001b[0m\u001b[0m\n",
      "\u001b[0;32m<ipython-input-30-8e262cde8a4b>\u001b[0m in \u001b[0;36minvertedDFS\u001b[0;34m(players, pos_index, player_index, budget)\u001b[0m\n\u001b[1;32m     49\u001b[0m     \u001b[0;32mfor\u001b[0m \u001b[0mj\u001b[0m \u001b[0;32min\u001b[0m \u001b[0mrange\u001b[0m\u001b[0;34m(\u001b[0m\u001b[0mlen\u001b[0m\u001b[0;34m(\u001b[0m\u001b[0mplayers\u001b[0m\u001b[0;34m[\u001b[0m\u001b[0mpos_index\u001b[0m \u001b[0;34m+\u001b[0m \u001b[0;36m1\u001b[0m\u001b[0;34m]\u001b[0m\u001b[0;34m)\u001b[0m\u001b[0;34m)\u001b[0m\u001b[0;34m:\u001b[0m\u001b[0;34m\u001b[0m\u001b[0;34m\u001b[0m\u001b[0m\n\u001b[1;32m     50\u001b[0m     \u001b[0;31m# for j in range(8):\u001b[0m\u001b[0;34m\u001b[0m\u001b[0;34m\u001b[0m\u001b[0;34m\u001b[0m\u001b[0m\n\u001b[0;32m---> 51\u001b[0;31m       \u001b[0ma\u001b[0m\u001b[0;34m,\u001b[0m \u001b[0ms\u001b[0m \u001b[0;34m=\u001b[0m \u001b[0minvertedDFS\u001b[0m\u001b[0;34m(\u001b[0m\u001b[0mplayers\u001b[0m\u001b[0;34m,\u001b[0m \u001b[0mpos_index\u001b[0m\u001b[0;34m+\u001b[0m\u001b[0;36m1\u001b[0m\u001b[0;34m,\u001b[0m \u001b[0mj\u001b[0m\u001b[0;34m,\u001b[0m \u001b[0mnewBudget\u001b[0m\u001b[0;34m)\u001b[0m\u001b[0;34m\u001b[0m\u001b[0;34m\u001b[0m\u001b[0m\n\u001b[0m\u001b[1;32m     52\u001b[0m       \u001b[0;31m# optimization 2: if a returns None (a is empty), break out of the current loop\u001b[0m\u001b[0;34m\u001b[0m\u001b[0;34m\u001b[0m\u001b[0;34m\u001b[0m\u001b[0m\n\u001b[1;32m     53\u001b[0m       \u001b[0;32mif\u001b[0m \u001b[0;32mnot\u001b[0m \u001b[0ma\u001b[0m\u001b[0;34m:\u001b[0m\u001b[0;34m\u001b[0m\u001b[0;34m\u001b[0m\u001b[0m\n",
      "\u001b[0;32m<ipython-input-30-8e262cde8a4b>\u001b[0m in \u001b[0;36minvertedDFS\u001b[0;34m(players, pos_index, player_index, budget)\u001b[0m\n\u001b[1;32m     49\u001b[0m     \u001b[0;32mfor\u001b[0m \u001b[0mj\u001b[0m \u001b[0;32min\u001b[0m \u001b[0mrange\u001b[0m\u001b[0;34m(\u001b[0m\u001b[0mlen\u001b[0m\u001b[0;34m(\u001b[0m\u001b[0mplayers\u001b[0m\u001b[0;34m[\u001b[0m\u001b[0mpos_index\u001b[0m \u001b[0;34m+\u001b[0m \u001b[0;36m1\u001b[0m\u001b[0;34m]\u001b[0m\u001b[0;34m)\u001b[0m\u001b[0;34m)\u001b[0m\u001b[0;34m:\u001b[0m\u001b[0;34m\u001b[0m\u001b[0;34m\u001b[0m\u001b[0m\n\u001b[1;32m     50\u001b[0m     \u001b[0;31m# for j in range(8):\u001b[0m\u001b[0;34m\u001b[0m\u001b[0;34m\u001b[0m\u001b[0;34m\u001b[0m\u001b[0m\n\u001b[0;32m---> 51\u001b[0;31m       \u001b[0ma\u001b[0m\u001b[0;34m,\u001b[0m \u001b[0ms\u001b[0m \u001b[0;34m=\u001b[0m \u001b[0minvertedDFS\u001b[0m\u001b[0;34m(\u001b[0m\u001b[0mplayers\u001b[0m\u001b[0;34m,\u001b[0m \u001b[0mpos_index\u001b[0m\u001b[0;34m+\u001b[0m\u001b[0;36m1\u001b[0m\u001b[0;34m,\u001b[0m \u001b[0mj\u001b[0m\u001b[0;34m,\u001b[0m \u001b[0mnewBudget\u001b[0m\u001b[0;34m)\u001b[0m\u001b[0;34m\u001b[0m\u001b[0;34m\u001b[0m\u001b[0m\n\u001b[0m\u001b[1;32m     52\u001b[0m       \u001b[0;31m# optimization 2: if a returns None (a is empty), break out of the current loop\u001b[0m\u001b[0;34m\u001b[0m\u001b[0;34m\u001b[0m\u001b[0;34m\u001b[0m\u001b[0m\n\u001b[1;32m     53\u001b[0m       \u001b[0;32mif\u001b[0m \u001b[0;32mnot\u001b[0m \u001b[0ma\u001b[0m\u001b[0;34m:\u001b[0m\u001b[0;34m\u001b[0m\u001b[0;34m\u001b[0m\u001b[0m\n",
      "\u001b[0;32m<ipython-input-30-8e262cde8a4b>\u001b[0m in \u001b[0;36minvertedDFS\u001b[0;34m(players, pos_index, player_index, budget)\u001b[0m\n\u001b[1;32m     32\u001b[0m           \u001b[0;32mbreak\u001b[0m\u001b[0;34m\u001b[0m\u001b[0;34m\u001b[0m\u001b[0m\n\u001b[1;32m     33\u001b[0m     \u001b[0;31m# print(assignment, getScore(assignment))\u001b[0m\u001b[0;34m\u001b[0m\u001b[0;34m\u001b[0m\u001b[0;34m\u001b[0m\u001b[0m\n\u001b[0;32m---> 34\u001b[0;31m     \u001b[0mnumLineups\u001b[0m \u001b[0;34m+=\u001b[0m \u001b[0;36m1\u001b[0m\u001b[0;34m\u001b[0m\u001b[0;34m\u001b[0m\u001b[0m\n\u001b[0m\u001b[1;32m     35\u001b[0m     \u001b[0;32mif\u001b[0m \u001b[0mnumLineups\u001b[0m\u001b[0;34m%\u001b[0m\u001b[0;36m10\u001b[0m \u001b[0;34m==\u001b[0m \u001b[0;36m0\u001b[0m\u001b[0;34m:\u001b[0m\u001b[0;34m\u001b[0m\u001b[0;34m\u001b[0m\u001b[0m\n\u001b[1;32m     36\u001b[0m       \u001b[0mprint\u001b[0m\u001b[0;34m(\u001b[0m\u001b[0mnumLineups\u001b[0m\u001b[0;34m)\u001b[0m\u001b[0;34m\u001b[0m\u001b[0;34m\u001b[0m\u001b[0m\n",
      "\u001b[0;31mUnboundLocalError\u001b[0m: local variable 'numLineups' referenced before assignment"
     ]
    }
   ],
   "source": [
    "invertedDFS(players, 0, 0, 50000)"
   ]
  },
  {
   "cell_type": "markdown",
   "metadata": {
    "id": "kjdJHl1mFg-s"
   },
   "source": [
    "# Test"
   ]
  },
  {
   "cell_type": "code",
   "execution_count": null,
   "metadata": {
    "colab": {
     "base_uri": "https://localhost:8080/",
     "height": 300
    },
    "id": "QXOHk_iVo59Y",
    "outputId": "13853662-abc0-4721-c4e1-38ff799ec62f"
   },
   "outputs": [
    {
     "data": {
      "text/html": [
       "\n",
       "  <div id=\"df-f8e08d52-607d-4186-8d8a-5506f6fe7395\">\n",
       "    <div class=\"colab-df-container\">\n",
       "      <div>\n",
       "<style scoped>\n",
       "    .dataframe tbody tr th:only-of-type {\n",
       "        vertical-align: middle;\n",
       "    }\n",
       "\n",
       "    .dataframe tbody tr th {\n",
       "        vertical-align: top;\n",
       "    }\n",
       "\n",
       "    .dataframe thead th {\n",
       "        text-align: right;\n",
       "    }\n",
       "</style>\n",
       "<table border=\"1\" class=\"dataframe\">\n",
       "  <thead>\n",
       "    <tr style=\"text-align: right;\">\n",
       "      <th></th>\n",
       "      <th>Name</th>\n",
       "      <th>Team</th>\n",
       "      <th>Position</th>\n",
       "      <th>Salary</th>\n",
       "      <th>FPTS</th>\n",
       "    </tr>\n",
       "  </thead>\n",
       "  <tbody>\n",
       "    <tr>\n",
       "      <th>0</th>\n",
       "      <td>LeBron James</td>\n",
       "      <td>LAL</td>\n",
       "      <td>PG/SF</td>\n",
       "      <td>9900</td>\n",
       "      <td>43.25</td>\n",
       "    </tr>\n",
       "    <tr>\n",
       "      <th>4</th>\n",
       "      <td>Nickeil Alexander-Walker</td>\n",
       "      <td>Nor</td>\n",
       "      <td>PG/SG</td>\n",
       "      <td>3400</td>\n",
       "      <td>15.00</td>\n",
       "    </tr>\n",
       "    <tr>\n",
       "      <th>9</th>\n",
       "      <td>Kawhi Leonard</td>\n",
       "      <td>LAC</td>\n",
       "      <td>SF</td>\n",
       "      <td>9600</td>\n",
       "      <td>48.50</td>\n",
       "    </tr>\n",
       "    <tr>\n",
       "      <th>10</th>\n",
       "      <td>Danny Green</td>\n",
       "      <td>LAL</td>\n",
       "      <td>SG/SF</td>\n",
       "      <td>5300</td>\n",
       "      <td>46.25</td>\n",
       "    </tr>\n",
       "    <tr>\n",
       "      <th>12</th>\n",
       "      <td>Josh Hart</td>\n",
       "      <td>Nor</td>\n",
       "      <td>SG/SF</td>\n",
       "      <td>3200</td>\n",
       "      <td>33.50</td>\n",
       "    </tr>\n",
       "    <tr>\n",
       "      <th>13</th>\n",
       "      <td>Maurice Harkless</td>\n",
       "      <td>LAC</td>\n",
       "      <td>SF/PF</td>\n",
       "      <td>3700</td>\n",
       "      <td>28.00</td>\n",
       "    </tr>\n",
       "    <tr>\n",
       "      <th>21</th>\n",
       "      <td>Anthony Davis</td>\n",
       "      <td>LAL</td>\n",
       "      <td>PF/C</td>\n",
       "      <td>10200</td>\n",
       "      <td>51.00</td>\n",
       "    </tr>\n",
       "    <tr>\n",
       "      <th>23</th>\n",
       "      <td>Nicolo Melli</td>\n",
       "      <td>Nor</td>\n",
       "      <td>PF/C</td>\n",
       "      <td>3000</td>\n",
       "      <td>24.25</td>\n",
       "    </tr>\n",
       "  </tbody>\n",
       "</table>\n",
       "</div>\n",
       "      <button class=\"colab-df-convert\" onclick=\"convertToInteractive('df-f8e08d52-607d-4186-8d8a-5506f6fe7395')\"\n",
       "              title=\"Convert this dataframe to an interactive table.\"\n",
       "              style=\"display:none;\">\n",
       "        \n",
       "  <svg xmlns=\"http://www.w3.org/2000/svg\" height=\"24px\"viewBox=\"0 0 24 24\"\n",
       "       width=\"24px\">\n",
       "    <path d=\"M0 0h24v24H0V0z\" fill=\"none\"/>\n",
       "    <path d=\"M18.56 5.44l.94 2.06.94-2.06 2.06-.94-2.06-.94-.94-2.06-.94 2.06-2.06.94zm-11 1L8.5 8.5l.94-2.06 2.06-.94-2.06-.94L8.5 2.5l-.94 2.06-2.06.94zm10 10l.94 2.06.94-2.06 2.06-.94-2.06-.94-.94-2.06-.94 2.06-2.06.94z\"/><path d=\"M17.41 7.96l-1.37-1.37c-.4-.4-.92-.59-1.43-.59-.52 0-1.04.2-1.43.59L10.3 9.45l-7.72 7.72c-.78.78-.78 2.05 0 2.83L4 21.41c.39.39.9.59 1.41.59.51 0 1.02-.2 1.41-.59l7.78-7.78 2.81-2.81c.8-.78.8-2.07 0-2.86zM5.41 20L4 18.59l7.72-7.72 1.47 1.35L5.41 20z\"/>\n",
       "  </svg>\n",
       "      </button>\n",
       "      \n",
       "  <style>\n",
       "    .colab-df-container {\n",
       "      display:flex;\n",
       "      flex-wrap:wrap;\n",
       "      gap: 12px;\n",
       "    }\n",
       "\n",
       "    .colab-df-convert {\n",
       "      background-color: #E8F0FE;\n",
       "      border: none;\n",
       "      border-radius: 50%;\n",
       "      cursor: pointer;\n",
       "      display: none;\n",
       "      fill: #1967D2;\n",
       "      height: 32px;\n",
       "      padding: 0 0 0 0;\n",
       "      width: 32px;\n",
       "    }\n",
       "\n",
       "    .colab-df-convert:hover {\n",
       "      background-color: #E2EBFA;\n",
       "      box-shadow: 0px 1px 2px rgba(60, 64, 67, 0.3), 0px 1px 3px 1px rgba(60, 64, 67, 0.15);\n",
       "      fill: #174EA6;\n",
       "    }\n",
       "\n",
       "    [theme=dark] .colab-df-convert {\n",
       "      background-color: #3B4455;\n",
       "      fill: #D2E3FC;\n",
       "    }\n",
       "\n",
       "    [theme=dark] .colab-df-convert:hover {\n",
       "      background-color: #434B5C;\n",
       "      box-shadow: 0px 1px 3px 1px rgba(0, 0, 0, 0.15);\n",
       "      filter: drop-shadow(0px 1px 2px rgba(0, 0, 0, 0.3));\n",
       "      fill: #FFFFFF;\n",
       "    }\n",
       "  </style>\n",
       "\n",
       "      <script>\n",
       "        const buttonEl =\n",
       "          document.querySelector('#df-f8e08d52-607d-4186-8d8a-5506f6fe7395 button.colab-df-convert');\n",
       "        buttonEl.style.display =\n",
       "          google.colab.kernel.accessAllowed ? 'block' : 'none';\n",
       "\n",
       "        async function convertToInteractive(key) {\n",
       "          const element = document.querySelector('#df-f8e08d52-607d-4186-8d8a-5506f6fe7395');\n",
       "          const dataTable =\n",
       "            await google.colab.kernel.invokeFunction('convertToInteractive',\n",
       "                                                     [key], {});\n",
       "          if (!dataTable) return;\n",
       "\n",
       "          const docLinkHtml = 'Like what you see? Visit the ' +\n",
       "            '<a target=\"_blank\" href=https://colab.research.google.com/notebooks/data_table.ipynb>data table notebook</a>'\n",
       "            + ' to learn more about interactive tables.';\n",
       "          element.innerHTML = '';\n",
       "          dataTable['output_type'] = 'display_data';\n",
       "          await google.colab.output.renderOutput(dataTable, element);\n",
       "          const docLink = document.createElement('div');\n",
       "          docLink.innerHTML = docLinkHtml;\n",
       "          element.appendChild(docLink);\n",
       "        }\n",
       "      </script>\n",
       "    </div>\n",
       "  </div>\n",
       "  "
      ],
      "text/plain": [
       "                        Name Team Position  Salary   FPTS\n",
       "0               LeBron James  LAL    PG/SF    9900  43.25\n",
       "4   Nickeil Alexander-Walker  Nor    PG/SG    3400  15.00\n",
       "9              Kawhi Leonard  LAC       SF    9600  48.50\n",
       "10               Danny Green  LAL    SG/SF    5300  46.25\n",
       "12                 Josh Hart  Nor    SG/SF    3200  33.50\n",
       "13          Maurice Harkless  LAC    SF/PF    3700  28.00\n",
       "21             Anthony Davis  LAL     PF/C   10200  51.00\n",
       "23              Nicolo Melli  Nor     PF/C    3000  24.25"
      ]
     },
     "execution_count": 24,
     "metadata": {},
     "output_type": "execute_result"
    }
   ],
   "source": [
    "res = {'Anthony Davis', 'Danny Green', 'Josh Hart', 'Kawhi Leonard', 'LeBron James', 'Maurice Harkless', 'Nickeil Alexander-Walker', 'Nicolo Melli'}\n",
    "test = df[df['Name'].isin(res)]\n",
    "test\n",
    "# test['Salary'].sum()\n",
    "# getScore(res)"
   ]
  }
 ],
 "metadata": {
  "colab": {
   "authorship_tag": "ABX9TyMkQqJJ/lXw4fAprjLGfKg0",
   "collapsed_sections": [
    "AfJ7cJBSAXkP"
   ],
   "include_colab_link": true,
   "name": "bruteForceLineups_ParetoFront.ipynb",
   "provenance": []
  },
  "kernelspec": {
   "display_name": "Python 3",
   "language": "python",
   "name": "python3"
  },
  "language_info": {
   "codemirror_mode": {
    "name": "ipython",
    "version": 3
   },
   "file_extension": ".py",
   "mimetype": "text/x-python",
   "name": "python",
   "nbconvert_exporter": "python",
   "pygments_lexer": "ipython3",
   "version": "3.8.8"
  }
 },
 "nbformat": 4,
 "nbformat_minor": 1
}
