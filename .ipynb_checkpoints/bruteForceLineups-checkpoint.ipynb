{
 "cells": [
  {
   "cell_type": "markdown",
   "metadata": {
    "id": "AfJ7cJBSAXkP"
   },
   "source": [
    "# Installing/Importing Necessary Libraries"
   ]
  },
  {
   "cell_type": "code",
   "execution_count": 1,
   "metadata": {
    "id": "Fl7DQK5xtakr"
   },
   "outputs": [],
   "source": [
    "import numpy as np\n",
    "import pandas as pd"
   ]
  },
  {
   "cell_type": "code",
   "execution_count": 2,
   "metadata": {
    "id": "Yoev3vf4bZPf"
   },
   "outputs": [],
   "source": [
    "df = pd.read_csv('./data/dataset2.csv')\n",
    "df = df[['Date', 'Name', 'Team', 'Position', 'Salary', 'FPTS']]\n",
    "df = df[df.FPTS != 0] # drop all players who scored 0 FPTS"
   ]
  },
  {
   "cell_type": "code",
   "execution_count": 3,
   "metadata": {
    "id": "Z29MoHtZi8G4"
   },
   "outputs": [],
   "source": [
    "# all the unique dates in the dataset\n",
    "dates = df['Date'].unique()"
   ]
  },
  {
   "cell_type": "markdown",
   "metadata": {
    "id": "KVQnNPkR17BO"
   },
   "source": [
    "# DFS Setup / Helper Functions"
   ]
  },
  {
   "cell_type": "code",
   "execution_count": 4,
   "metadata": {
    "id": "fBByj5lC6Is_"
   },
   "outputs": [],
   "source": [
    "def getSingleScore(player):\n",
    "  return currentPlayers[currentPlayers['Name'] == player].iloc[0].FPTS\n",
    "\n",
    "def getSingleSalary(player):\n",
    "  return currentPlayers[currentPlayers['Name'] == player].iloc[0].Salary"
   ]
  },
  {
   "cell_type": "code",
   "execution_count": 5,
   "metadata": {
    "id": "DcgFIOjE9huy"
   },
   "outputs": [],
   "source": [
    "# getScore takes in a dict of players, returns the fantasy points scored by players\n",
    "def getScore(players):\n",
    "  total_score = 0\n",
    "  for player in players.values():\n",
    "    player_score = getSingleScore(player)\n",
    "    # print(player, player_score)\n",
    "    total_score += player_score\n",
    "  return total_score"
   ]
  },
  {
   "cell_type": "markdown",
   "metadata": {
    "id": "CI9meyjb-Iu-"
   },
   "source": [
    "# Inverted DFS"
   ]
  },
  {
   "cell_type": "code",
   "execution_count": 6,
   "metadata": {
    "id": "YoXvxq_4508q"
   },
   "outputs": [],
   "source": [
    "MAX_POSITION_INDEX = 7\n",
    "\n",
    "# invertedDFS(players, 0, 0, 50000)\n",
    "def invertedDFS(players, pos_index, player_index, budget):\n",
    "  player = players[pos_index][player_index]\n",
    "\n",
    "  salary = getSingleSalary(player)\n",
    "  newBudget = budget - salary\n",
    "\n",
    "  # optimization 1: instead of comparing with 0, compare with sum(min_budget of each remaining position)\n",
    "  #   can be computed ahead of time for each level\n",
    "  # if newBudget < 0:\n",
    "  if pos_index < MAX_POSITION_INDEX and newBudget < minSalaries[pos_index+1]:\n",
    "#     print('out of budget at position {}'.format(pos_index))\n",
    "    return dict(), np.NINF\n",
    "\n",
    "  # optimization 3: two separate cases: if I have enough budget to pick the max salary from every remaining level, no need for recursion, just pick best score from every lower level\n",
    "  # otherwise, do the recursive search in the next block\n",
    "  if pos_index < MAX_POSITION_INDEX and newBudget > maxSalaries[pos_index+1]:\n",
    "#     print('can afford best players at position {}'.format(pos_index))\n",
    "\n",
    "    assignment = dict()\n",
    "    assignment[pos_index] = player\n",
    "    for i in range(pos_index+1, 8):\n",
    "      for index, row in l3[i].iterrows():\n",
    "        if row['Name'] not in assignment.values():\n",
    "          assignment[i] = row['Name']\n",
    "          break\n",
    "    # print(assignment, getScore(assignment))\n",
    "    return assignment, getScore(assignment)\n",
    "\n",
    "  if pos_index == MAX_POSITION_INDEX:\n",
    "    assignment = {pos_index: player}\n",
    "    # print(pos_index, player_index, player)\n",
    "    return assignment, getScore(assignment)\n",
    "  else:\n",
    "    max_score = 0\n",
    "    best_lineup = dict()\n",
    "    for j in range(len(players[pos_index + 1])):\n",
    "      a, s = invertedDFS(players, pos_index+1, j, newBudget) \n",
    "      # optimization 2: if a returns None (a is empty), break out of the current loop\n",
    "      if not a:\n",
    "#         print('next level returned none')\n",
    "        break\n",
    "      if s > max_score and a and player not in a.values(): #duplicate check\n",
    "        max_score = s\n",
    "        best_lineup = a\n",
    "        # print(max_score, best_lineup)\n",
    "    if best_lineup:\n",
    "      best_lineup[pos_index]=player\n",
    "      return best_lineup, max_score + getSingleScore(player)\n",
    "    else:\n",
    "      return dict(), np.NINF"
   ]
  },
  {
   "cell_type": "markdown",
   "metadata": {
    "id": "HzK5hWooxOhm"
   },
   "source": [
    "# Main Setup/Function Call"
   ]
  },
  {
   "cell_type": "code",
   "execution_count": null,
   "metadata": {
    "colab": {
     "base_uri": "https://localhost:8080/"
    },
    "id": "2x1yLld4r3Fr",
    "outputId": "e16d3cf8-ae03-42a5-921c-8d2543b1cfbc"
   },
   "outputs": [],
   "source": [
    "for date in dates:\n",
    "  day = df[df['Date']==date]\n",
    "\n",
    "  Utils = day.copy()\n",
    "  Utils['Position'] = 'UTIL'\n",
    "\n",
    "  multPositions = day[day['Position'].str.contains(\"/\")]\n",
    "  multPositions.reset_index(inplace=True, drop=True)\n",
    "\n",
    "  pos1 = []\n",
    "  pos2 = []\n",
    "  for index, row in multPositions.iterrows():\n",
    "    playerPos1, playerPos2 = row['Position'].split('/')\n",
    "    copy1 = row.copy()\n",
    "    copy1['Position'] = playerPos1\n",
    "    copy2 = row.copy()\n",
    "    copy2['Position'] = playerPos2\n",
    "    # print(copy)\n",
    "    pos1.append(copy1)\n",
    "    pos2.append(copy2)\n",
    "    # print(playerPos1, playerPos2)\n",
    "\n",
    "  # print(multPositions.shape)\n",
    "  pos1 = pd.DataFrame(pos1)\n",
    "  pos2 = pd.DataFrame(pos2)\n",
    "\n",
    "  # print(dates[date], multPositions.shape)\n",
    "\n",
    "  onePosition = day[ day['Position'].str.contains('/')==False ]\n",
    "  \n",
    "  # print(onePosition.shape)\n",
    "  # print(dates[date], onePosition.shape)\n",
    "\n",
    "  currentPlayers = pd.concat([onePosition, pos1, pos2], ignore_index=True)\n",
    "  currentPlayers.sort_values(['Name', 'Team', 'Position'], na_position='first', inplace=True, ignore_index=True)\n",
    "\n",
    "  Gs = currentPlayers[currentPlayers['Position'].isin(['PG', 'SG'])]\n",
    "  Gs.drop_duplicates(subset='Name', inplace=True)\n",
    "  Gs.reset_index(inplace=True, drop=True)\n",
    "  Gs['Position'] = 'G'\n",
    "\n",
    "  Fs = currentPlayers[currentPlayers['Position'].isin(['SF', 'PF'])]\n",
    "  Fs.drop_duplicates(subset='Name', inplace=True)\n",
    "  Fs.reset_index(inplace=True, drop=True)\n",
    "  Fs['Position'] = 'F'\n",
    "\n",
    "  currentPlayers = pd.concat([currentPlayers, Gs, Fs, Utils], ignore_index=True)\n",
    "  currentPlayers.sort_values(['Name', 'Team', 'Position'], na_position='first', inplace=True, ignore_index=True)\n",
    "\n",
    "  # incr determines if the players are each position are sorted by increasing salary\n",
    "  incr = True\n",
    "\n",
    "  PGs = currentPlayers[currentPlayers['Position'] == 'PG']\n",
    "  PGs.sort_values(by=['Salary'], ascending=incr, inplace=True)\n",
    "\n",
    "  SGs = currentPlayers[currentPlayers['Position'] == 'SG']\n",
    "  SGs.sort_values(by=['Salary'], ascending=incr, inplace=True)\n",
    "\n",
    "  SFs = currentPlayers[currentPlayers['Position'] == 'SF']\n",
    "  SFs.sort_values(by=['Salary'], ascending=incr, inplace=True)\n",
    "\n",
    "  PFs = currentPlayers[currentPlayers['Position'] == 'PF']\n",
    "  PFs.sort_values(by=['Salary'], ascending=incr, inplace=True)\n",
    "\n",
    "  Cs = currentPlayers[currentPlayers['Position'] == 'C']\n",
    "  Cs.sort_values(by=['Salary'], ascending=incr, inplace=True)\n",
    "\n",
    "  Gs = currentPlayers[currentPlayers['Position'] == 'G']\n",
    "  Gs.sort_values(by=['Salary'], ascending=incr, inplace=True)\n",
    "\n",
    "  Fs = currentPlayers[currentPlayers['Position'] == 'F']\n",
    "  Fs.sort_values(by=['Salary'], ascending=incr, inplace=True)\n",
    "\n",
    "  Utils = currentPlayers[currentPlayers['Position'] == 'UTIL']\n",
    "  Utils.sort_values(by=['Salary'], ascending=incr, inplace=True)\n",
    "\n",
    "  # minPrices holds the minimum budget required to keep searching at each position\n",
    "  #   where the number at index i represents the sum of the least expensive players at position index >= i\n",
    "\n",
    "  # maxPrices holds the minimum budget required to afford the highest scoring players in the remaining positions\n",
    "  #   where the number at index i represents the sum of the most expensive players at position index >= i\n",
    "\n",
    "  l1 = [PGs, SGs, SFs, PFs, Cs, Gs, Fs, Utils]\n",
    "\n",
    "  minSalaries = []\n",
    "  maxSalaries = []\n",
    "  l2 = []\n",
    "  position_order = []\n",
    "\n",
    "  l3 = []\n",
    "\n",
    "  for i in range(8):\n",
    "    # could also consider sorting by the mean salary of each position\n",
    "    pos_max = l1[i].Salary.max()\n",
    "    l2.append((pos_max, l1[i]))\n",
    "\n",
    "  # sort the positions in descending order by max salary\n",
    "  l2 = sorted(l2, key=lambda x: x[0], reverse=True)\n",
    "\n",
    "  cheapest_sum = 0\n",
    "  expensive_sum = 0\n",
    "  for i in range(len(l2)):\n",
    "    # keeping track of the sum of salaries for the most expensive players in each position\n",
    "    pos_max = l2[i][0]\n",
    "    expensive_sum += pos_max\n",
    "    maxSalaries.insert(0, expensive_sum)\n",
    "\n",
    "    # removing the max sal info, retaining just the dataframe\n",
    "    l2[i] = l2[i][1]\n",
    "\n",
    "    l3.append(l2[i].sort_values(by=['FPTS'], ascending=False))\n",
    "\n",
    "    # keeping track of the sum of salaries for the least expensive players in each position\n",
    "    pos_min = l2[i].Salary.min()\n",
    "    cheapest_sum += pos_min\n",
    "    minSalaries.insert(0, cheapest_sum)\n",
    "\n",
    "    # keeping track of the sorted order of the positions\n",
    "    pos = l2[i]['Position'].iloc[0]\n",
    "    position_order.append(pos)\n",
    "\n",
    "    # print(pos, pos_min, pos_max)\n",
    "\n",
    "  # players[i][j] represents the ith player in the jth position\n",
    "  # players[i] sorted in ascending order by salary\n",
    "\n",
    "  players = []\n",
    "\n",
    "  for i in range(len(l2)):\n",
    "    players_list = l2[i]['Name'].to_list()\n",
    "    # print(position_order[i], players_list)\n",
    "    players.append(players_list)\n",
    "\n",
    "  print(f'{date}, {players}', flush=True)\n",
    " \n",
    "  res = invertedDFS(players, 0, 0, 50000)\n",
    "\n",
    "  soln = res[0]\n",
    "  soln['Date'] = date\n",
    "  soln['FPTS'] = res[1]\n",
    "  soln_df = pd.DataFrame(soln, index=[0])\n",
    "  soln_df.to_csv(f'./data/soln/{date}.csv', line_terminator='\\n', index=False)\n",
    "  print(f'done with {date}')\n"
   ]
  },
  {
   "cell_type": "code",
   "execution_count": null,
   "metadata": {},
   "outputs": [],
   "source": []
  }
 ],
 "metadata": {
  "colab": {
   "collapsed_sections": [],
   "name": "Copy of bruteForceLineups.ipynb",
   "provenance": []
  },
  "kernelspec": {
   "display_name": "Python 3",
   "language": "python",
   "name": "python3"
  }
 },
 "nbformat": 4,
 "nbformat_minor": 1
}
